{
 "cells": [
  {
   "cell_type": "code",
   "execution_count": 1,
   "id": "35f05bb8",
   "metadata": {},
   "outputs": [
    {
     "name": "stdout",
     "output_type": "stream",
     "text": [
      "None\n"
     ]
    }
   ],
   "source": [
    "import __main__\n",
    "print(__main__.__package__)"
   ]
  },
  {
   "cell_type": "code",
   "execution_count": 2,
   "id": "61fd3618",
   "metadata": {},
   "outputs": [],
   "source": [
    "import sys\n",
    "import os\n",
    "\n",
    "sys.path.append(os.path.abspath(\"..\")) "
   ]
  },
  {
   "cell_type": "code",
   "execution_count": 3,
   "id": "05ed22e1",
   "metadata": {},
   "outputs": [],
   "source": [
    "from omegaconf import OmegaConf\n",
    "\n",
    "gpu_config = {\n",
    "    \"seed\": 42,\n",
    "    \"device\": \"cuda\",\n",
    "}\n",
    "\n",
    "gpu_config = OmegaConf.create(gpu_config)"
   ]
  },
  {
   "cell_type": "code",
   "execution_count": 4,
   "id": "af2f995f",
   "metadata": {},
   "outputs": [],
   "source": [
    "import torch\n",
    "import numpy as np\n",
    "\n",
    "torch.manual_seed(gpu_config.seed)\n",
    "np.random.seed(gpu_config.seed)\n",
    "\n",
    "if torch.cuda.is_available and 'cuda' in gpu_config.device:\n",
    "    torch.cuda.manual_seed(gpu_config.seed)\n",
    "    torch.backends.cudnn.deterministic = True\n",
    "    torch.backends.cudnn.benchmark = False\n",
    "\n",
    "os.environ['PYTHONASHSEED'] = str(gpu_config.seed)"
   ]
  },
  {
   "cell_type": "code",
   "execution_count": 5,
   "id": "e17fa5b4",
   "metadata": {},
   "outputs": [],
   "source": [
    "dataloader_cfg = {\n",
    "    \"datasets\": {\n",
    "        \"data_dir\": \"/home/cc/efficient-rsnn-bmi/data/datasets\",\n",
    "        \"ratio_val\": 0.1,\n",
    "        \"random_val\": False,\n",
    "        \"extend_data\": True,\n",
    "        \"sample_duration\": 2.0,\n",
    "        \"remove_segments_inactive\": False,\n",
    "        \"p_drop\": 0.0,\n",
    "        \"p_insert\": 0.0,\n",
    "        \"jitter_sigma\": 0.0,\n",
    "        \"dtype\": \"float32\",\n",
    "        \"dt\": 4e-3,\n",
    "    }\n",
    "}\n",
    "\n",
    "dataloader_cfg = OmegaConf.create(dataloader_cfg)"
   ]
  },
  {
   "cell_type": "code",
   "execution_count": 6,
   "id": "5daa6414",
   "metadata": {},
   "outputs": [],
   "source": [
    "from efficient_rsnn_bmi.core.dataloader import get_dataloader\n",
    "\n",
    "dtype = getattr(torch, dataloader_cfg.datasets.dtype)\n",
    "dataloader = get_dataloader(dataloader_cfg, dtype=dtype)"
   ]
  },
  {
   "cell_type": "code",
   "execution_count": 7,
   "id": "6eca4dec",
   "metadata": {},
   "outputs": [],
   "source": [
    "monkey_name = \"indy\"\n",
    "monkey_files = {\n",
    "    \"indy\": {\n",
    "        \"session01\": \"indy_20160622_01.mat\",\n",
    "        \"session02\": \"indy_20160624_03.mat\"\n",
    "    }\n",
    "}"
   ]
  },
  {
   "cell_type": "code",
   "execution_count": 8,
   "id": "cbc6a0e4",
   "metadata": {},
   "outputs": [
    {
     "data": {
      "text/plain": [
       "['indy_20160622_01.mat', 'indy_20160624_03.mat']"
      ]
     },
     "execution_count": 8,
     "metadata": {},
     "output_type": "execute_result"
    }
   ],
   "source": [
    "filename = list(monkey_files[monkey_name].values())\n",
    "filename"
   ]
  },
  {
   "cell_type": "code",
   "execution_count": 9,
   "id": "6b98514a",
   "metadata": {},
   "outputs": [
    {
     "name": "stdout",
     "output_type": "stream",
     "text": [
      "Loading indy_20160622_01.mat\n",
      "\u001b[36m[2025-05-28 20:52:28] \u001b[33m[INFO] \u001b[32m[data.neurobench.dataloader] \u001b[37m- Extending data...\u001b[0m\n",
      "Loading indy_20160624_03.mat\n",
      "\u001b[36m[2025-05-28 20:52:54] \u001b[33m[INFO] \u001b[32m[data.neurobench.dataloader] \u001b[37m- Extending data...\u001b[0m\n"
     ]
    }
   ],
   "source": [
    "train_data, val_data, test_data = dataloader.get_multiple_sessions_data(filename)"
   ]
  },
  {
   "cell_type": "code",
   "execution_count": 10,
   "id": "9330b5d4",
   "metadata": {},
   "outputs": [
    {
     "name": "stdout",
     "output_type": "stream",
     "text": [
      "Length of train data: 4722\n",
      "Length of val data: 974\n",
      "Length of test data: 2\n",
      "Dimension of 1st spike train data: torch.Size([500, 96])\n",
      "Dimension of 1st of label train data: torch.Size([500, 2])\n",
      "Dimension of 1st spike val data: torch.Size([500, 96])\n",
      "Dimension of 1st of label val data: torch.Size([500, 2])\n",
      "Dimension of 1st spike test data: torch.Size([132745, 96])\n",
      "Dimension of 1st of label test data: torch.Size([132745, 2])\n"
     ]
    }
   ],
   "source": [
    "print(f\"Length of train data: {len(train_data)}\")\n",
    "print(f\"Length of val data: {len(val_data)}\")\n",
    "print(f\"Length of test data: {len(test_data)}\")\n",
    "print(f\"Dimension of 1st spike train data: {(train_data[0][0].shape)}\")\n",
    "print(f\"Dimension of 1st of label train data: {(train_data[0][1].shape)}\")\n",
    "print(f\"Dimension of 1st spike val data: {(val_data[0][0].shape)}\")\n",
    "print(f\"Dimension of 1st of label val data: {(val_data[0][1].shape)}\")\n",
    "print(f\"Dimension of 1st spike test data: {(test_data[0][0][0].shape)}\")\n",
    "print(f\"Dimension of 1st of label test data: {(test_data[0][0][1].shape)}\")"
   ]
  },
  {
   "cell_type": "code",
   "execution_count": 11,
   "id": "959e0583",
   "metadata": {},
   "outputs": [
    {
     "name": "stdout",
     "output_type": "stream",
     "text": [
      "Data type of 1st spike train data: torch.float32\n",
      "Data type of 1st label train data: torch.float32\n",
      "Data type of 1st spike val data: torch.float32\n",
      "Data type of 1st label val data: torch.float32\n",
      "Data type of 1st spike test data: torch.float32\n",
      "Data type of 1st label test data: torch.float32\n"
     ]
    }
   ],
   "source": [
    "print(f\"Data type of 1st spike train data: {train_data[0][0].dtype}\")\n",
    "print(f\"Data type of 1st label train data: {train_data[0][1].dtype}\")\n",
    "print(f\"Data type of 1st spike val data: {val_data[0][0].dtype}\")\n",
    "print(f\"Data type of 1st label val data: {val_data[0][1].dtype}\")\n",
    "print(f\"Data type of 1st spike test data: {test_data[0][0][0].dtype}\")\n",
    "print(f\"Data type of 1st label test data: {test_data[0][0][1].dtype}\")"
   ]
  },
  {
   "cell_type": "code",
   "execution_count": 12,
   "id": "ffecf5e3",
   "metadata": {},
   "outputs": [
    {
     "name": "stdout",
     "output_type": "stream",
     "text": [
      "Time Steps: 500\n",
      "Input Channels: 96\n",
      "Output Channels: 2\n"
     ]
    }
   ],
   "source": [
    "nb_time_steps = int(dataloader_cfg.datasets.sample_duration / dataloader_cfg.datasets.dt)\n",
    "nb_outputs = train_data[0][1].shape[1]\n",
    "nb_inputs = train_data[0][0].shape[1]\n",
    "\n",
    "print(f\"Time Steps: {nb_time_steps}\")\n",
    "print(f\"Input Channels: {nb_inputs}\")\n",
    "print(f\"Output Channels: {nb_outputs}\")"
   ]
  },
  {
   "cell_type": "code",
   "execution_count": 13,
   "id": "490cafc1",
   "metadata": {},
   "outputs": [],
   "source": [
    "training_config = {\n",
    "    \"training\": {\n",
    "        \"batch_size\": 250,\n",
    "        \"SG_beta\": 20,\n",
    "        \"LB_L2_strength\": 100,\n",
    "        \"LB_L2_thresh\": 1e-3,\n",
    "        \"UB_L2_strength\": 0.01,\n",
    "        \"UB_L2_thresh\": 10,\n",
    "    }\n",
    "}\n",
    "training_config = OmegaConf.create(training_config)"
   ]
  },
  {
   "cell_type": "code",
   "execution_count": 14,
   "id": "3dbc7fbe",
   "metadata": {},
   "outputs": [],
   "source": [
    "device = \"cuda:0\""
   ]
  },
  {
   "cell_type": "code",
   "execution_count": 15,
   "id": "b87ff0cc",
   "metadata": {},
   "outputs": [],
   "source": [
    "from efficient_rsnn_bmi.experiments.models.rsnn.rsnn_interpolate import InterpolateRecurrentSpikingModel\n",
    "\n",
    "model = InterpolateRecurrentSpikingModel(\n",
    "    batch_size = training_config.training.batch_size,\n",
    "    nb_time_steps = nb_time_steps,\n",
    "    nb_inputs = nb_inputs,\n",
    "    device = device,\n",
    "    dtype = dtype,\n",
    "    n_keys=2\n",
    ")"
   ]
  },
  {
   "cell_type": "code",
   "execution_count": 16,
   "id": "b620c4ab",
   "metadata": {},
   "outputs": [],
   "source": [
    "model_config = {\n",
    "    \"model\": {\n",
    "        \"stochastic\": False,\n",
    "        \"dropout_p\": 0.3,\n",
    "        \"nb_hidden\": 1,\n",
    "        \"hidden_size\": [64],\n",
    "        \"recurrent\": [True],\n",
    "        \"multiple_readout\": False,\n",
    "        \"tau_mem_readout\": 50e-3,\n",
    "        \"tau_syn_readout\": 10e-3,\n",
    "        \"tau_mem\": 20e-3,\n",
    "        \"tau_syn\": 10e-3,\n",
    "        \"het_timescales\": True,\n",
    "        \"het_timescales_readout\": True,\n",
    "        \"learn_timescales\": True,\n",
    "        \"learn_timescales_readout\": True,\n",
    "        \"delta_synapse\": False,\n",
    "        \"is_half\": True,\n",
    "        \"key_step\": 8,\n",
    "    }\n",
    "}\n",
    "\n",
    "model_config = OmegaConf.create(model_config)"
   ]
  },
  {
   "cell_type": "code",
   "execution_count": 17,
   "id": "0b182337",
   "metadata": {},
   "outputs": [],
   "source": [
    "import stork\n",
    "\n",
    "activation_function = stork.activations.CustomSpike\n",
    "\n",
    "if model_config.model.stochastic:\n",
    "    activation_function.escape_noise_type = \"sigmoid\"\n",
    "else:\n",
    "    activation_function.escape_noise_type = \"step\"\n",
    "\n",
    "activation_function.escape_noise_params = {\"beta\": training_config.training.SG_beta}\n",
    "activation_function.surrogate_type = \"SuperSpike\"\n",
    "activation_function.surrogate_params = {\"beta\": training_config.training.SG_beta}"
   ]
  },
  {
   "cell_type": "code",
   "execution_count": 18,
   "id": "e00fb590",
   "metadata": {},
   "outputs": [],
   "source": [
    "regs = []\n",
    "\n",
    "regLB = stork.regularizers.LowerBoundL2(\n",
    "    strength = training_config.training.LB_L2_strength,\n",
    "    threshold = training_config.training.LB_L2_thresh,\n",
    "    dims = False,\n",
    ")\n",
    "\n",
    "regUB = stork.regularizers.UpperBoundL2(\n",
    "    strength = training_config.training.UB_L2_strength,\n",
    "    threshold = training_config.training.UB_L2_thresh,\n",
    "    dims = 1,\n",
    ")\n",
    "\n",
    "regs.append(regLB)\n",
    "regs.append(regUB)"
   ]
  },
  {
   "cell_type": "code",
   "execution_count": 19,
   "id": "b09cdeb3",
   "metadata": {},
   "outputs": [
    {
     "name": "stdout",
     "output_type": "stream",
     "text": [
      "torch.Size([500, 96])\n"
     ]
    }
   ],
   "source": [
    "from efficient_rsnn_bmi.core.dataloader import compute_input_firing_rates\n",
    "\n",
    "mean1, mean2 = compute_input_firing_rates(train_data, dataloader_cfg)"
   ]
  },
  {
   "cell_type": "code",
   "execution_count": 20,
   "id": "eec7981d",
   "metadata": {},
   "outputs": [],
   "source": [
    "initializers_config = {\n",
    "    \"initializer\": {\n",
    "        \"compute_nu\": True,\n",
    "        \"sigma_u\": 0.5,\n",
    "        \"nu\": 20,\n",
    "        \"alpha\": 0.9,\n",
    "        \"kaiming_gain\": 1.0\n",
    "    }\n",
    "}"
   ]
  },
  {
   "cell_type": "code",
   "execution_count": 21,
   "id": "2842014a",
   "metadata": {},
   "outputs": [],
   "source": [
    "initializers_config = OmegaConf.create(initializers_config)"
   ]
  },
  {
   "cell_type": "code",
   "execution_count": 22,
   "id": "f4620652",
   "metadata": {},
   "outputs": [],
   "source": [
    "from stork.initializers import (\n",
    "    FluctuationDrivenCenteredNormalInitializer,\n",
    "    DistInitializer\n",
    ")\n",
    "\n",
    "hidden_init = FluctuationDrivenCenteredNormalInitializer(\n",
    "    sigma_u=initializers_config.initializer.sigma_u,\n",
    "    nu=mean1,\n",
    "    timestep=dataloader_cfg.datasets.dt,\n",
    "    alpha=initializers_config.initializer.alpha,\n",
    "    dtype=dtype,\n",
    ")\n",
    "\n",
    "readout_init = DistInitializer(\n",
    "    dist=torch.distributions.Normal(0, 1),\n",
    "    scaling=\"1/sqrt(k)\",\n",
    "    dtype=dtype,\n",
    ")"
   ]
  },
  {
   "cell_type": "code",
   "execution_count": 23,
   "id": "dda6abfe",
   "metadata": {},
   "outputs": [],
   "source": [
    "from stork.layers import Layer\n",
    "from stork.connections import Connection\n",
    "from efficient_rsnn_bmi.base.lif import CustomLIFGroup\n",
    "from efficient_rsnn_bmi.base.readout import CustomReadoutGroup\n",
    "from efficient_rsnn_bmi.base.interpolation.inputs import InterpolationInputGroup\n",
    "from efficient_rsnn_bmi.base.interpolation.connection import InterpolationConnection\n",
    "\n",
    "input_group = model.add_group(\n",
    "    InterpolationInputGroup(\n",
    "        shape=nb_inputs,\n",
    "        dropout_p=model_config.model.dropout_p,\n",
    "    )\n",
    ")\n",
    "current_src_grp = input_group"
   ]
  },
  {
   "cell_type": "code",
   "execution_count": 24,
   "id": "a1f40bc1",
   "metadata": {},
   "outputs": [
    {
     "name": "stdout",
     "output_type": "stream",
     "text": [
      "CustomLIFGroup(\n",
      "  (dropout): Dropout(p=0.3, inplace=False)\n",
      ")\n",
      "Readout group shape:  (2,)\n",
      "Current source group shape:  (64,)\n",
      "CustomLIFGroup(\n",
      "  (dropout): Dropout(p=0.3, inplace=False)\n",
      ") CustomReadoutGroup()\n"
     ]
    }
   ],
   "source": [
    "current_src_grp = input_group\n",
    "for i in range (model_config.model.nb_hidden):\n",
    "    hidden_layer = Layer(\n",
    "        name = f\"hidden_{i}\",\n",
    "        model = model,\n",
    "        size = model_config.model.hidden_size[i],\n",
    "        input_group = input_group,\n",
    "        recurrent = model_config.model.recurrent[i],\n",
    "        regs = regs,\n",
    "        neuron_class = CustomLIFGroup,\n",
    "        neuron_kwargs={\n",
    "            \"tau_mem\": model_config.model.tau_mem,\n",
    "            \"tau_syn\": model_config.model.tau_syn,\n",
    "            \"activation\": activation_function,\n",
    "            \"dropout_p\": model_config.model.dropout_p,\n",
    "            \"het_timescales\": model_config.model.het_timescales,\n",
    "            \"learn_timescales\": model_config.model.learn_timescales,\n",
    "            \"is_delta_syn\": model_config.model.delta_synapse,\n",
    "        },\n",
    "        connection_class=InterpolationConnection,\n",
    "        connection_kwargs={}\n",
    "    )\n",
    "\n",
    "    current_src_grp = hidden_layer.output_group\n",
    "    print(current_src_grp)\n",
    "\n",
    "    hidden_init.initialize(hidden_layer)\n",
    "\n",
    "    if i == 0 and nb_inputs == 192 and train_data is not None:\n",
    "        with torch.no_grad():\n",
    "            hidden_layer.connections[0].weight[:, :96] /= mean2 / mean1\n",
    "        \n",
    "    # Add single RO group\n",
    "    readout_group = model.add_group(\n",
    "        CustomReadoutGroup(\n",
    "            nb_outputs,\n",
    "            tau_mem = model_config.model.tau_mem_readout,\n",
    "            tau_syn = model_config.model.tau_syn_readout,\n",
    "            het_timescales = model_config.model.het_timescales_readout,\n",
    "            learn_timescales = model_config.model.learn_timescales_readout,\n",
    "            initial_state = -1e-2,\n",
    "            is_delta_syn = model_config.model.delta_synapse,\n",
    "        )\n",
    "    )\n",
    "\n",
    "    print(\"Readout group shape: \", readout_group.shape)\n",
    "    print(\"Current source group shape: \", current_src_grp.shape)\n",
    "    print(current_src_grp, readout_group)\n",
    "    con_ro = model.add_connection(\n",
    "        Connection(current_src_grp, readout_group, dtype=dtype)\n",
    "    )\n",
    "\n",
    "    readout_init.initialize(con_ro)"
   ]
  },
  {
   "cell_type": "code",
   "execution_count": 25,
   "id": "1c44b37a",
   "metadata": {},
   "outputs": [],
   "source": [
    "from efficient_rsnn_bmi.base.loss import RootMeanSquareError\n",
    "\n",
    "loss_class = RootMeanSquareError()\n",
    "# Mask Early Timestep later"
   ]
  },
  {
   "cell_type": "code",
   "execution_count": 26,
   "id": "0f607686",
   "metadata": {},
   "outputs": [],
   "source": [
    "from stork.optimizers import SMORMS3\n",
    "\n",
    "opt_kwargs = {\n",
    "    \"lr\": 2e-3\n",
    "}\n",
    "\n",
    "opt_kwargs[\"eps\"] = 1e-5 if dtype == torch.float16 else 1e-16\n",
    "\n",
    "opt = SMORMS3"
   ]
  },
  {
   "cell_type": "code",
   "execution_count": 27,
   "id": "2b074d79",
   "metadata": {},
   "outputs": [],
   "source": [
    "scheduler = torch.optim.lr_scheduler.CosineAnnealingLR\n",
    "scheduler_kwargs = {\"T_max\": 200} # nb of epoch train"
   ]
  },
  {
   "cell_type": "code",
   "execution_count": 28,
   "id": "79a70c8d",
   "metadata": {},
   "outputs": [],
   "source": [
    "# Make sure this later (Worker Init Seeding)\n",
    "\n",
    "import numpy as np\n",
    "import random\n",
    "\n",
    "def worker_init_fn(worker_id):\n",
    "    np.random.seed(42 + worker_id)\n",
    "    random.seed(42 + worker_id)"
   ]
  },
  {
   "cell_type": "code",
   "execution_count": 29,
   "id": "f7acab21",
   "metadata": {},
   "outputs": [],
   "source": [
    "from stork.generators import StandardGenerator\n",
    "\n",
    "generator = StandardGenerator(\n",
    "    nb_workers=2,\n",
    "    worker_init_fn=worker_init_fn,\n",
    ")"
   ]
  },
  {
   "cell_type": "code",
   "execution_count": 30,
   "id": "66a10eaa",
   "metadata": {},
   "outputs": [],
   "source": [
    "model.configure(\n",
    "    input=model.groups[0],\n",
    "    output=model.groups[-1],\n",
    "    loss_stack=loss_class,\n",
    "    generator=generator,\n",
    "    optimizer=opt,\n",
    "    optimizer_kwargs=opt_kwargs,\n",
    "    scheduler=scheduler,\n",
    "    scheduler_kwargs=scheduler_kwargs,\n",
    "    time_step=dataloader_cfg.datasets.dt,\n",
    ")"
   ]
  },
  {
   "cell_type": "code",
   "execution_count": 31,
   "id": "b910bfa7",
   "metadata": {},
   "outputs": [
    {
     "name": "stdout",
     "output_type": "stream",
     "text": [
      "\n",
      "# Model summary\n",
      "\n",
      "## Groups\n",
      "Input, (96,)\n",
      "hidden_0, (64,)\n",
      "Readout, (2,)\n",
      "\n",
      "## Connections\n",
      "InterpolationConnection(\n",
      "  (src): InterpolationInputGroup(\n",
      "    (dropout): Dropout(p=0.3, inplace=False)\n",
      "  )\n",
      "  (dst): CustomLIFGroup(\n",
      "    (dropout): Dropout(p=0.3, inplace=False)\n",
      "  )\n",
      "  (op): Linear(in_features=96, out_features=64, bias=False)\n",
      ")\n",
      "InterpolationConnection(\n",
      "  (src): CustomLIFGroup(\n",
      "    (dropout): Dropout(p=0.3, inplace=False)\n",
      "  )\n",
      "  (dst): CustomLIFGroup(\n",
      "    (dropout): Dropout(p=0.3, inplace=False)\n",
      "  )\n",
      "  (op): Linear(in_features=64, out_features=64, bias=False)\n",
      ")\n",
      "Connection(\n",
      "  (src): CustomLIFGroup(\n",
      "    (dropout): Dropout(p=0.3, inplace=False)\n",
      "  )\n",
      "  (dst): CustomReadoutGroup()\n",
      "  (op): Linear(in_features=64, out_features=2, bias=False)\n",
      ")\n"
     ]
    }
   ],
   "source": [
    "model.summary()"
   ]
  },
  {
   "cell_type": "code",
   "execution_count": 32,
   "id": "48be41a1",
   "metadata": {},
   "outputs": [
    {
     "name": "stdout",
     "output_type": "stream",
     "text": [
      "==================================================\n",
      "RUN\n",
      "Time step: 0\n",
      "==================================================\n",
      "CUSTOM LIF GROUP FORWARD\n",
      "Membrane shape: torch.Size([250, 64])\n",
      "Membrane: tensor([[0., 0., 0.,  ..., 0., 0., 0.],\n",
      "        [0., 0., 0.,  ..., 0., 0., 0.],\n",
      "        [0., 0., 0.,  ..., 0., 0., 0.],\n",
      "        ...,\n",
      "        [0., 0., 0.,  ..., 0., 0., 0.],\n",
      "        [0., 0., 0.,  ..., 0., 0., 0.],\n",
      "        [0., 0., 0.,  ..., 0., 0., 0.]], device='cuda:0')\n",
      "==================================================\n",
      "Time step: 2\n",
      "Lower Bound: tensor([[ 0.4438,  0.5923,  0.2672,  ...,  0.4645,  0.1713, -0.5964],\n",
      "        [ 0.5980, -0.1917, -0.0985,  ..., -0.2119, -0.2936,  0.6416],\n",
      "        [-0.0792, -0.2601, -1.0471,  ...,  1.1558,  0.5953,  0.2456],\n",
      "        ...,\n",
      "        [ 0.0299,  0.0359, -0.7870,  ...,  0.4168,  0.6058, -0.5866],\n",
      "        [ 0.2549, -0.3284, -0.0714,  ...,  0.0532,  0.1433,  0.7823],\n",
      "        [ 0.8761,  0.5032, -0.0399,  ...,  0.4178,  2.2363,  0.5710]],\n",
      "       device='cuda:0', grad_fn=<CloneBackward0>)\n",
      "Upper Bound: tensor([[ 0.4438,  0.5923,  0.2672,  ...,  0.4645,  0.1713, -0.5964],\n",
      "        [ 0.5980, -0.1917, -0.0985,  ..., -0.2119, -0.2936,  0.6416],\n",
      "        [-0.0792, -0.2601, -1.0471,  ...,  1.1558,  0.5953,  0.2456],\n",
      "        ...,\n",
      "        [ 0.0299,  0.0359, -0.7870,  ...,  0.4168,  0.6058, -0.5866],\n",
      "        [ 0.2549, -0.3284, -0.0714,  ...,  0.0532,  0.1433,  0.7823],\n",
      "        [ 0.8761,  0.5032, -0.0399,  ...,  0.4178,  2.2363,  0.5710]],\n",
      "       device='cuda:0', grad_fn=<CloneBackward0>)\n",
      "Interpolation: tensor([[[ 0.4438,  0.5923,  0.2672,  ...,  0.4645,  0.1713, -0.5964],\n",
      "         [ 0.5980, -0.1917, -0.0985,  ..., -0.2119, -0.2936,  0.6416],\n",
      "         [-0.0792, -0.2601, -1.0471,  ...,  1.1558,  0.5953,  0.2456],\n",
      "         ...,\n",
      "         [ 0.0299,  0.0359, -0.7870,  ...,  0.4168,  0.6058, -0.5866],\n",
      "         [ 0.2549, -0.3284, -0.0714,  ...,  0.0532,  0.1433,  0.7823],\n",
      "         [ 0.8761,  0.5032, -0.0399,  ...,  0.4178,  2.2363,  0.5710]],\n",
      "\n",
      "        [[ 0.4438,  0.5923,  0.2672,  ...,  0.4645,  0.1713, -0.5964],\n",
      "         [ 0.5980, -0.1917, -0.0985,  ..., -0.2119, -0.2936,  0.6416],\n",
      "         [-0.0792, -0.2601, -1.0471,  ...,  1.1558,  0.5953,  0.2456],\n",
      "         ...,\n",
      "         [ 0.0299,  0.0359, -0.7870,  ...,  0.4168,  0.6058, -0.5866],\n",
      "         [ 0.2549, -0.3284, -0.0714,  ...,  0.0532,  0.1433,  0.7823],\n",
      "         [ 0.8761,  0.5032, -0.0399,  ...,  0.4178,  2.2363,  0.5710]],\n",
      "\n",
      "        [[ 0.4438,  0.5923,  0.2672,  ...,  0.4645,  0.1713, -0.5964],\n",
      "         [ 0.5980, -0.1917, -0.0985,  ..., -0.2119, -0.2936,  0.6416],\n",
      "         [-0.0792, -0.2601, -1.0471,  ...,  1.1558,  0.5953,  0.2456],\n",
      "         ...,\n",
      "         [ 0.0299,  0.0359, -0.7870,  ...,  0.4168,  0.6058, -0.5866],\n",
      "         [ 0.2549, -0.3284, -0.0714,  ...,  0.0532,  0.1433,  0.7823],\n",
      "         [ 0.8761,  0.5032, -0.0399,  ...,  0.4178,  2.2363,  0.5710]]],\n",
      "       device='cuda:0', grad_fn=<LerpBackward1>)\n",
      "Interpolation Shape: torch.Size([3, 250, 64])\n",
      "Checking for the changing input\n",
      "Input: tensor([[ 0.4438,  0.5923,  0.2672,  ...,  0.4645,  0.1713, -0.5964],\n",
      "        [ 0.5980, -0.1917, -0.0985,  ..., -0.2119, -0.2936,  0.6416],\n",
      "        [-0.0792, -0.2601, -1.0471,  ...,  1.1558,  0.5953,  0.2456],\n",
      "        ...,\n",
      "        [ 0.0299,  0.0359, -0.7870,  ...,  0.4168,  0.6058, -0.5866],\n",
      "        [ 0.2549, -0.3284, -0.0714,  ...,  0.0532,  0.1433,  0.7823],\n",
      "        [ 0.8761,  0.5032, -0.0399,  ...,  0.4178,  2.2363,  0.5710]],\n",
      "       device='cuda:0', grad_fn=<AddBackward0>)\n",
      "Input Shape: torch.Size([250, 64])\n",
      "Input: tensor([[ 0.8876,  1.1845,  0.5344,  ...,  0.9291,  0.3427, -1.1929],\n",
      "        [ 1.1960, -0.3834, -0.1969,  ..., -0.4237, -0.5872,  1.2832],\n",
      "        [-0.1584, -0.5201, -2.0941,  ...,  2.3117,  1.1905,  0.4913],\n",
      "        ...,\n",
      "        [ 0.0597,  0.0718, -1.5740,  ...,  0.8336,  1.2117, -1.1733],\n",
      "        [ 0.5098, -0.6568, -0.1428,  ...,  0.1064,  0.2866,  1.5646],\n",
      "        [ 1.7521,  1.0065, -0.0799,  ...,  0.8356,  4.4727,  1.1421]],\n",
      "       device='cuda:0', grad_fn=<AddBackward0>)\n",
      "Input Shape: torch.Size([250, 64])\n",
      "==================================================\n",
      "CUSTOM LIF GROUP FORWARD\n",
      "Membrane shape: torch.Size([250, 64])\n",
      "Membrane: tensor([[0., 0., 0.,  ..., 0., 0., 0.],\n",
      "        [0., 0., 0.,  ..., 0., 0., 0.],\n",
      "        [0., 0., 0.,  ..., 0., 0., 0.],\n",
      "        ...,\n",
      "        [0., 0., 0.,  ..., 0., 0., 0.],\n",
      "        [0., 0., 0.,  ..., 0., 0., 0.],\n",
      "        [0., 0., 0.,  ..., 0., 0., 0.]], device='cuda:0',\n",
      "       grad_fn=<MulBackward0>)\n",
      "==================================================\n",
      "Output: tensor([[0., 0., 0.,  ..., 0., 0., 0.],\n",
      "        [0., 0., 0.,  ..., 0., 0., 0.],\n",
      "        [0., 0., 0.,  ..., 0., 0., 0.],\n",
      "        ...,\n",
      "        [0., 0., 0.,  ..., 0., 0., 0.],\n",
      "        [0., 0., 0.,  ..., 0., 0., 0.],\n",
      "        [0., 0., 0.,  ..., 0., 0., 0.]], device='cuda:0',\n",
      "       grad_fn=<CustomSpikeBackward>)\n",
      "Output Shape: torch.Size([250, 64])\n"
     ]
    },
    {
     "ename": "ValueError",
     "evalue": "This is breakpoint",
     "output_type": "error",
     "traceback": [
      "\u001b[31m---------------------------------------------------------------------------\u001b[39m",
      "\u001b[31mValueError\u001b[39m                                Traceback (most recent call last)",
      "\u001b[36mCell\u001b[39m\u001b[36m \u001b[39m\u001b[32mIn[32]\u001b[39m\u001b[32m, line 8\u001b[39m\n\u001b[32m      5\u001b[39m timestamp = datetime.now().strftime(\u001b[33m\"\u001b[39m\u001b[33m%\u001b[39m\u001b[33mY-\u001b[39m\u001b[33m%\u001b[39m\u001b[33mm-\u001b[39m\u001b[38;5;132;01m%d\u001b[39;00m\u001b[33m_\u001b[39m\u001b[33m%\u001b[39m\u001b[33mH-\u001b[39m\u001b[33m%\u001b[39m\u001b[33mM-\u001b[39m\u001b[33m%\u001b[39m\u001b[33mS\u001b[39m\u001b[33m\"\u001b[39m)\n\u001b[32m      6\u001b[39m output_dir = Path(\u001b[33m\"\u001b[39m\u001b[33moutputs\u001b[39m\u001b[33m\"\u001b[39m) / \u001b[33m\"\u001b[39m\u001b[33mbaseline\u001b[39m\u001b[33m\"\u001b[39m / timestamp\n\u001b[32m----> \u001b[39m\u001b[32m8\u001b[39m fig, ax = \u001b[43mplot_activity_snapshot\u001b[49m\u001b[43m(\u001b[49m\n\u001b[32m      9\u001b[39m \u001b[43m    \u001b[49m\u001b[43mmodel\u001b[49m\u001b[43m,\u001b[49m\n\u001b[32m     10\u001b[39m \u001b[43m    \u001b[49m\u001b[43mval_data\u001b[49m\u001b[43m,\u001b[49m\n\u001b[32m     11\u001b[39m \u001b[43m    \u001b[49m\u001b[43msave_path\u001b[49m\u001b[43m=\u001b[49m\u001b[43m \u001b[49m\u001b[43moutput_dir\u001b[49m\u001b[43m \u001b[49m\u001b[43m/\u001b[49m\u001b[43m \u001b[49m\u001b[33;43mf\u001b[39;49m\u001b[33;43m\"\u001b[39;49m\u001b[33;43mpretraining/baseline_\u001b[39;49m\u001b[38;5;132;43;01m{\u001b[39;49;00m\u001b[43mmonkey_name\u001b[49m\u001b[38;5;132;43;01m}\u001b[39;49;00m\u001b[33;43m/snapshot_before.png\u001b[39;49m\u001b[33;43m\"\u001b[39;49m\n\u001b[32m     12\u001b[39m \u001b[43m)\u001b[49m\n",
      "\u001b[36mFile \u001b[39m\u001b[32m~/efficient-rsnn-bmi/efficient_rsnn_bmi/utils/plotting.py:264\u001b[39m, in \u001b[36mplot_activity_snapshot\u001b[39m\u001b[34m(model, data, save_path)\u001b[39m\n\u001b[32m    262\u001b[39m \u001b[38;5;28;01mdef\u001b[39;00m\u001b[38;5;250m \u001b[39m\u001b[34mplot_activity_snapshot\u001b[39m(model, data, save_path=\u001b[38;5;28;01mNone\u001b[39;00m):\n\u001b[32m--> \u001b[39m\u001b[32m264\u001b[39m     fig, ax = \u001b[43mplot_activity_CST\u001b[49m\u001b[43m(\u001b[49m\n\u001b[32m    265\u001b[39m \u001b[43m        \u001b[49m\u001b[43mmodel\u001b[49m\u001b[43m,\u001b[49m\n\u001b[32m    266\u001b[39m \u001b[43m        \u001b[49m\u001b[43mdata\u001b[49m\u001b[43m=\u001b[49m\u001b[43mdata\u001b[49m\u001b[43m,\u001b[49m\n\u001b[32m    267\u001b[39m \u001b[43m        \u001b[49m\u001b[43mfigsize\u001b[49m\u001b[43m=\u001b[49m\u001b[43m(\u001b[49m\u001b[32;43m10\u001b[39;49m\u001b[43m,\u001b[49m\u001b[43m \u001b[49m\u001b[32;43m5\u001b[39;49m\u001b[43m)\u001b[49m\u001b[43m,\u001b[49m\n\u001b[32m    268\u001b[39m \u001b[43m        \u001b[49m\u001b[43mdpi\u001b[49m\u001b[43m=\u001b[49m\u001b[32;43m250\u001b[39;49m\u001b[43m,\u001b[49m\n\u001b[32m    269\u001b[39m \u001b[43m        \u001b[49m\u001b[43mpos\u001b[49m\u001b[43m=\u001b[49m\u001b[43m(\u001b[49m\u001b[32;43m0\u001b[39;49m\u001b[43m,\u001b[49m\u001b[43m \u001b[49m\u001b[32;43m0\u001b[39;49m\u001b[43m)\u001b[49m\u001b[43m,\u001b[49m\n\u001b[32m    270\u001b[39m \u001b[43m        \u001b[49m\u001b[43moff\u001b[49m\u001b[43m=\u001b[49m\u001b[43m(\u001b[49m\u001b[32;43m0.0\u001b[39;49m\u001b[43m,\u001b[49m\u001b[43m \u001b[49m\u001b[43m-\u001b[49m\u001b[32;43m0.05\u001b[39;49m\u001b[43m)\u001b[49m\u001b[43m,\u001b[49m\n\u001b[32m    271\u001b[39m \u001b[43m        \u001b[49m\u001b[43mturn_ro_axis_off\u001b[49m\u001b[43m=\u001b[49m\u001b[38;5;28;43;01mTrue\u001b[39;49;00m\u001b[43m,\u001b[49m\n\u001b[32m    272\u001b[39m \u001b[43m    \u001b[49m\u001b[43m)\u001b[49m\n\u001b[32m    274\u001b[39m     \u001b[38;5;28;01mif\u001b[39;00m save_path \u001b[38;5;129;01mis\u001b[39;00m \u001b[38;5;129;01mnot\u001b[39;00m \u001b[38;5;28;01mNone\u001b[39;00m:\n\u001b[32m    275\u001b[39m         Path(save_path).parent.mkdir(parents=\u001b[38;5;28;01mTrue\u001b[39;00m, exist_ok=\u001b[38;5;28;01mTrue\u001b[39;00m)\n",
      "\u001b[36mFile \u001b[39m\u001b[32m~/efficient-rsnn-bmi/efficient_rsnn_bmi/utils/plotting.py:175\u001b[39m, in \u001b[36mplot_activity_CST\u001b[39m\u001b[34m(model, data, nb_samples, figsize, dpi, marker, point_size, point_alpha, pos, off, turn_ro_axis_off)\u001b[39m\n\u001b[32m    158\u001b[39m \u001b[38;5;28;01mdef\u001b[39;00m\u001b[38;5;250m \u001b[39m\u001b[34mplot_activity_CST\u001b[39m(\n\u001b[32m    159\u001b[39m     model,\n\u001b[32m    160\u001b[39m     data,\n\u001b[32m   (...)\u001b[39m\u001b[32m    173\u001b[39m     \u001b[38;5;66;03m# Run model once and get activities\u001b[39;00m\n\u001b[32m    174\u001b[39m     \u001b[38;5;66;03m# print(f\"Evaluating model... {data[0][0].shape}\") # (500, 96)\u001b[39;00m\n\u001b[32m--> \u001b[39m\u001b[32m175\u001b[39m     scores = \u001b[43mmodel\u001b[49m\u001b[43m.\u001b[49m\u001b[43mevaluate\u001b[49m\u001b[43m(\u001b[49m\u001b[43mdata\u001b[49m\u001b[43m)\u001b[49m\n\u001b[32m    176\u001b[39m     \u001b[38;5;28mprint\u001b[39m(\u001b[33m\"\u001b[39m\u001b[33mThis is the score\u001b[39m\u001b[33m\"\u001b[39m, scores)\n\u001b[32m    178\u001b[39m     inp = model.input_group.get_flattened_out_sequence().detach().cpu().numpy()\n",
      "\u001b[36mFile \u001b[39m\u001b[32m~/efficient-rsnn-bmi/venvs/efficient-rsnn-bmi/lib/python3.12/site-packages/stork/models.py:296\u001b[39m, in \u001b[36mRecurrentSpikingModel.evaluate\u001b[39m\u001b[34m(self, test_dataset, train_mode)\u001b[39m\n\u001b[32m    294\u001b[39m metrics = []\n\u001b[32m    295\u001b[39m \u001b[38;5;28;01mfor\u001b[39;00m local_X, local_y \u001b[38;5;129;01min\u001b[39;00m \u001b[38;5;28mself\u001b[39m.data_generator(test_dataset, shuffle=\u001b[38;5;28;01mFalse\u001b[39;00m):\n\u001b[32m--> \u001b[39m\u001b[32m296\u001b[39m     output = \u001b[38;5;28;43mself\u001b[39;49m\u001b[43m.\u001b[49m\u001b[43mforward_pass\u001b[49m\u001b[43m(\u001b[49m\u001b[43mlocal_X\u001b[49m\u001b[43m,\u001b[49m\u001b[43m \u001b[49m\u001b[43mcur_batch_size\u001b[49m\u001b[43m=\u001b[49m\u001b[38;5;28;43mlen\u001b[39;49m\u001b[43m(\u001b[49m\u001b[43mlocal_X\u001b[49m\u001b[43m)\u001b[49m\u001b[43m)\u001b[49m\n\u001b[32m    297\u001b[39m     total_loss = \u001b[38;5;28mself\u001b[39m.get_total_loss(output, local_y)\n\u001b[32m    298\u001b[39m     \u001b[38;5;66;03m# store loss and other metrics\u001b[39;00m\n",
      "\u001b[36mFile \u001b[39m\u001b[32m~/efficient-rsnn-bmi/venvs/efficient-rsnn-bmi/lib/python3.12/site-packages/stork/models.py:267\u001b[39m, in \u001b[36mRecurrentSpikingModel.forward_pass\u001b[39m\u001b[34m(self, x_batch, cur_batch_size, record)\u001b[39m\n\u001b[32m    265\u001b[39m \u001b[38;5;28;01mdef\u001b[39;00m\u001b[38;5;250m \u001b[39m\u001b[34mforward_pass\u001b[39m(\u001b[38;5;28mself\u001b[39m, x_batch, cur_batch_size, record=\u001b[38;5;28;01mFalse\u001b[39;00m):\n\u001b[32m    266\u001b[39m     \u001b[38;5;66;03m# run recurrent dynamics\u001b[39;00m\n\u001b[32m--> \u001b[39m\u001b[32m267\u001b[39m     us = \u001b[38;5;28;43mself\u001b[39;49m\u001b[43m.\u001b[49m\u001b[43mrun\u001b[49m\u001b[43m(\u001b[49m\u001b[43mx_batch\u001b[49m\u001b[43m,\u001b[49m\u001b[43m \u001b[49m\u001b[43mcur_batch_size\u001b[49m\u001b[43m,\u001b[49m\u001b[43m \u001b[49m\u001b[43mrecord\u001b[49m\u001b[43m=\u001b[49m\u001b[43mrecord\u001b[49m\u001b[43m)\u001b[49m\n\u001b[32m    268\u001b[39m     \u001b[38;5;28;01mreturn\u001b[39;00m us\n",
      "\u001b[36mFile \u001b[39m\u001b[32m~/efficient-rsnn-bmi/efficient_rsnn_bmi/experiments/models/rsnn/rsnn_interpolate.py:137\u001b[39m, in \u001b[36mInterpolateRecurrentSpikingModel.run\u001b[39m\u001b[34m(self, x_batch, cur_batch_size, record)\u001b[39m\n\u001b[32m    134\u001b[39m                 \u001b[38;5;28mprint\u001b[39m(\u001b[33mf\u001b[39m\u001b[33m\"\u001b[39m\u001b[33mOutput: \u001b[39m\u001b[38;5;132;01m{\u001b[39;00mg.out\u001b[38;5;132;01m}\u001b[39;00m\u001b[33m\"\u001b[39m)\n\u001b[32m    135\u001b[39m                 \u001b[38;5;28mprint\u001b[39m(\u001b[33mf\u001b[39m\u001b[33m\"\u001b[39m\u001b[33mOutput Shape: \u001b[39m\u001b[38;5;132;01m{\u001b[39;00mg.out.shape\u001b[38;5;132;01m}\u001b[39;00m\u001b[33m\"\u001b[39m)\n\u001b[32m--> \u001b[39m\u001b[32m137\u001b[39m                 \u001b[38;5;28;01mraise\u001b[39;00m \u001b[38;5;167;01mValueError\u001b[39;00m(\u001b[33m\"\u001b[39m\u001b[33mThis is breakpoint\u001b[39m\u001b[33m\"\u001b[39m)\n\u001b[32m    138\u001b[39m             lower_bounds[i] = upper_bound\n\u001b[32m    140\u001b[39m \u001b[38;5;28mself\u001b[39m.execute_all()\n",
      "\u001b[31mValueError\u001b[39m: This is breakpoint"
     ]
    }
   ],
   "source": [
    "from datetime import datetime\n",
    "from pathlib import Path\n",
    "from efficient_rsnn_bmi.utils.plotting import plot_activity_snapshot\n",
    "\n",
    "timestamp = datetime.now().strftime(\"%Y-%m-%d_%H-%M-%S\")\n",
    "output_dir = Path(\"outputs\") / \"baseline\" / timestamp\n",
    "\n",
    "fig, ax = plot_activity_snapshot(\n",
    "    model,\n",
    "    val_data,\n",
    "    save_path= output_dir / f\"pretraining/baseline_{monkey_name}/snapshot_before.png\"\n",
    ")"
   ]
  },
  {
   "cell_type": "code",
   "execution_count": null,
   "id": "02c0fc37",
   "metadata": {},
   "outputs": [
    {
     "ename": "AttributeError",
     "evalue": "'NoneType' object has no attribute 'forward'",
     "output_type": "error",
     "traceback": [
      "\u001b[31m---------------------------------------------------------------------------\u001b[39m",
      "\u001b[31mAttributeError\u001b[39m                            Traceback (most recent call last)",
      "\u001b[36mCell\u001b[39m\u001b[36m \u001b[39m\u001b[32mIn[38]\u001b[39m\u001b[32m, line 1\u001b[39m\n\u001b[32m----> \u001b[39m\u001b[32m1\u001b[39m \u001b[43mmodel\u001b[49m\u001b[43m.\u001b[49m\u001b[43minput_group\u001b[49m\u001b[43m.\u001b[49m\u001b[43mforward\u001b[49m()\n",
      "\u001b[31mAttributeError\u001b[39m: 'NoneType' object has no attribute 'forward'"
     ]
    }
   ],
   "source": [
    "model.input_group.forward()"
   ]
  },
  {
   "cell_type": "code",
   "execution_count": null,
   "id": "64814929",
   "metadata": {},
   "outputs": [],
   "source": [
    "history = model.fit_validate(\n",
    "    train_data,\n",
    "    val_data,\n",
    "    nb_epochs=5,\n",
    "    verbose=True\n",
    ")"
   ]
  }
 ],
 "metadata": {
  "kernelspec": {
   "display_name": "efficient-rsnn-bmi",
   "language": "python",
   "name": "python3"
  },
  "language_info": {
   "codemirror_mode": {
    "name": "ipython",
    "version": 3
   },
   "file_extension": ".py",
   "mimetype": "text/x-python",
   "name": "python",
   "nbconvert_exporter": "python",
   "pygments_lexer": "ipython3",
   "version": "3.12.10"
  }
 },
 "nbformat": 4,
 "nbformat_minor": 5
}
