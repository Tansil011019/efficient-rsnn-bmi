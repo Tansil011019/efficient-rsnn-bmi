{
 "cells": [
  {
   "cell_type": "code",
   "execution_count": null,
   "id": "52c66b3f",
   "metadata": {},
   "outputs": [],
   "source": [
    "import __main__\n",
    "print(__main__.__package__)"
   ]
  },
  {
   "cell_type": "code",
   "execution_count": null,
   "id": "a05b1bea",
   "metadata": {},
   "outputs": [],
   "source": [
    "import sys\n",
    "import os\n",
    "\n",
    "sys.path.append(os.path.abspath(\"..\")) "
   ]
  },
  {
   "cell_type": "code",
   "execution_count": null,
   "id": "8d770d53",
   "metadata": {},
   "outputs": [],
   "source": [
    "from omegaconf import OmegaConf\n",
    "\n",
    "gpu_config = {\n",
    "    \"seed\": 42,\n",
    "    \"device\": \"cuda\",\n",
    "}\n",
    "\n",
    "gpu_config = OmegaConf.create(gpu_config)"
   ]
  },
  {
   "cell_type": "code",
   "execution_count": null,
   "id": "21a979a9",
   "metadata": {},
   "outputs": [],
   "source": [
    "import torch\n",
    "import numpy as np\n",
    "\n",
    "torch.manual_seed(gpu_config.seed)\n",
    "np.random.seed(gpu_config.seed)\n",
    "\n",
    "if torch.cuda.is_available and 'cuda' in gpu_config.device:\n",
    "    torch.cuda.manual_seed(gpu_config.seed)\n",
    "    torch.backends.cudnn.deterministic = True\n",
    "    torch.backends.cudnn.benchmark = False\n",
    "\n",
    "os.environ['PYTHONASHSEED'] = str(gpu_config.seed)"
   ]
  },
  {
   "cell_type": "code",
   "execution_count": null,
   "id": "b2d55306",
   "metadata": {},
   "outputs": [],
   "source": [
    "dataloader_cfg = {\n",
    "    \"data_dir\": \"/home/cc/efficient-rsnn-bmi/data/datasets\",\n",
    "    \"ratio_val\": 0.1,\n",
    "    \"random_val\": False,\n",
    "    \"extend_data\": True,\n",
    "    \"sample_duration\": 2.0,\n",
    "    \"remove_segments_inactive\": False,\n",
    "    \"p_drop\": 0.0,\n",
    "    \"p_insert\": 0.0,\n",
    "    \"jitter_sigma\": 0.0,\n",
    "    \"dtype\": \"float32\",\n",
    "    \"dt\": 4e-3,\n",
    "}\n",
    "\n",
    "dataloader_cfg = OmegaConf.create(dataloader_cfg)"
   ]
  },
  {
   "cell_type": "code",
   "execution_count": null,
   "id": "f7ff62e3",
   "metadata": {},
   "outputs": [],
   "source": [
    "from efficient_rsnn_bmi.core.dataloader import get_dataloader\n",
    "\n",
    "dtype = getattr(torch, dataloader_cfg.dtype)\n",
    "dataloader = get_dataloader(dataloader_cfg, dtype=dtype)"
   ]
  },
  {
   "cell_type": "code",
   "execution_count": null,
   "id": "db774ab9",
   "metadata": {},
   "outputs": [],
   "source": [
    "monkey_name = \"indy\"\n",
    "monkey_files = {\n",
    "    \"indy\": {\n",
    "        \"session01\": \"indy_20160622_01.mat\",\n",
    "        \"session02\": \"indy_20160624_03.mat\",\n",
    "        # \"session03\": \"indy_20160627_01.mat\",\n",
    "        # \"session04\": \"indy_20160630_01.mat\",\n",
    "        # \"session05\": \"indy_20160915_01.mat\",\n",
    "        # \"session06\": \"indy_20160916_01.mat\",\n",
    "        # \"session07\": \"indy_20160921_01.mat\",\n",
    "        # \"session08\": \"indy_20160927_04.mat\",\n",
    "        # \"session09\": \"indy_20160927_06.mat\",\n",
    "        # \"session10\": \"indy_20160930_02.mat\",\n",
    "    }\n",
    "}"
   ]
  },
  {
   "cell_type": "code",
   "execution_count": null,
   "id": "24c2771b",
   "metadata": {},
   "outputs": [],
   "source": [
    "filename = list(monkey_files[monkey_name].values())\n",
    "filename"
   ]
  },
  {
   "cell_type": "code",
   "execution_count": null,
   "id": "fb56d20d",
   "metadata": {},
   "outputs": [],
   "source": [
    "train_data, val_data, test_data = dataloader.get_multiple_sessions_data(filename)"
   ]
  },
  {
   "cell_type": "code",
   "execution_count": null,
   "id": "cd7f598d",
   "metadata": {},
   "outputs": [],
   "source": [
    "print(f\"Length of train data: {len(train_data)}\")\n",
    "print(f\"Length of val data: {len(val_data)}\")\n",
    "print(f\"Length of test data: {len(test_data)}\")\n",
    "print(f\"Dimension of 1st spike train data: {(train_data[0][0].shape)}\")\n",
    "print(f\"Dimension of 1st of label train data: {(train_data[0][1].shape)}\")\n",
    "print(f\"Dimension of 1st spike val data: {(val_data[0][0].shape)}\")\n",
    "print(f\"Dimension of 1st of label val data: {(val_data[0][1].shape)}\")\n",
    "print(f\"Dimension of 1st spike test data: {(test_data[0][0][0].shape)}\")\n",
    "print(f\"Dimension of 1st of label test data: {(test_data[0][0][1].shape)}\")"
   ]
  },
  {
   "cell_type": "code",
   "execution_count": null,
   "id": "8ffdf50a",
   "metadata": {},
   "outputs": [],
   "source": [
    "print(f\"Data type of 1st spike train data: {train_data[0][0].dtype}\")\n",
    "print(f\"Data type of 1st label train data: {train_data[0][1].dtype}\")\n",
    "print(f\"Data type of 1st spike val data: {val_data[0][0].dtype}\")\n",
    "print(f\"Data type of 1st label val data: {val_data[0][1].dtype}\")\n",
    "print(f\"Data type of 1st spike test data: {test_data[0][0][0].dtype}\")\n",
    "print(f\"Data type of 1st label test data: {test_data[0][0][1].dtype}\")"
   ]
  },
  {
   "cell_type": "code",
   "execution_count": null,
   "id": "33f01d78",
   "metadata": {},
   "outputs": [],
   "source": [
    "nb_time_steps = int(dataloader_cfg.sample_duration / dataloader_cfg.dt)\n",
    "nb_outputs = train_data[0][1].shape[1]\n",
    "nb_inputs = train_data[0][0].shape[1]\n",
    "\n",
    "print(f\"Time Steps: {nb_time_steps}\")\n",
    "print(f\"Input Channels: {nb_inputs}\")\n",
    "print(f\"Output Channels: {nb_outputs}\")"
   ]
  },
  {
   "cell_type": "code",
   "execution_count": null,
   "id": "f27d9955",
   "metadata": {},
   "outputs": [],
   "source": [
    "training_config = {\n",
    "    \"training\": {\n",
    "        \"batch_size\": 250,\n",
    "        \"SG_beta\": 20,\n",
    "        \"LB_L2_strength\": 100,\n",
    "        \"LB_L2_thresh\": 1e-3,\n",
    "        \"UB_L2_strength\": 0.01,\n",
    "        \"UB_L2_thresh\": 10,\n",
    "    }\n",
    "}\n",
    "training_config = OmegaConf.create(training_config)"
   ]
  },
  {
   "cell_type": "code",
   "execution_count": null,
   "id": "7dfce07b",
   "metadata": {},
   "outputs": [],
   "source": [
    "device = \"cuda:0\""
   ]
  },
  {
   "cell_type": "code",
   "execution_count": null,
   "id": "897b77c0",
   "metadata": {},
   "outputs": [],
   "source": [
    "from efficient_rsnn_bmi.experiments.models.rsnn.rsnn_delay import DelayRecurrentSpikingModel\n",
    "\n",
    "model = DelayRecurrentSpikingModel(\n",
    "    batch_size = training_config.training.batch_size,\n",
    "    nb_time_steps = nb_time_steps,\n",
    "    nb_inputs = nb_inputs,\n",
    "    device = device,\n",
    "    dtype = dtype,\n",
    ")"
   ]
  },
  {
   "cell_type": "code",
   "execution_count": null,
   "id": "87d19e78",
   "metadata": {},
   "outputs": [],
   "source": [
    "model_config = {\n",
    "    \"model\": {\n",
    "        \"stochastic\": False,\n",
    "        \"dropout_p\": 0.3,\n",
    "        \"nb_hidden\": 1,\n",
    "        \"hidden_size\": [64],\n",
    "        \"recurrent\": [True],\n",
    "        \"multiple_readout\": False,\n",
    "        \"tau_mem_readout\": 50e-3,\n",
    "        \"tau_syn_readout\": 10e-3,\n",
    "        \"tau_mem\": 20e-3,\n",
    "        \"tau_syn\": 10e-3,\n",
    "        \"het_timescales\": True,\n",
    "        \"het_timescales_readout\": True,\n",
    "        \"learn_timescales\": True,\n",
    "        \"learn_timescales_readout\": True,\n",
    "        \"delta_synapse\": False,\n",
    "        \"is_half\": True\n",
    "    }\n",
    "}\n",
    "\n",
    "model_config = OmegaConf.create(model_config)"
   ]
  },
  {
   "cell_type": "code",
   "execution_count": null,
   "id": "4167c38f",
   "metadata": {},
   "outputs": [],
   "source": [
    "import stork\n",
    "\n",
    "activation_function = stork.activations.CustomSpike\n",
    "\n",
    "if model_config.model.stochastic:\n",
    "    activation_function.escape_noise_type = \"sigmoid\"\n",
    "else:\n",
    "    activation_function.escape_noise_type = \"step\"\n",
    "\n",
    "activation_function.escape_noise_params = {\"beta\": training_config.training.SG_beta}\n",
    "activation_function.surrogate_type = \"SuperSpike\"\n",
    "activation_function.surrogate_params = {\"beta\": training_config.training.SG_beta}"
   ]
  },
  {
   "cell_type": "code",
   "execution_count": null,
   "id": "f33f8d4a",
   "metadata": {},
   "outputs": [],
   "source": [
    "regs = []\n",
    "\n",
    "regLB = stork.regularizers.LowerBoundL2(\n",
    "    strength = training_config.training.LB_L2_strength,\n",
    "    threshold = training_config.training.LB_L2_thresh,\n",
    "    dims = False,\n",
    ")\n",
    "\n",
    "regUB = stork.regularizers.UpperBoundL2(\n",
    "    strength = training_config.training.UB_L2_strength,\n",
    "    threshold = training_config.training.UB_L2_thresh,\n",
    "    dims = 1,\n",
    ")\n",
    "\n",
    "regs.append(regLB)\n",
    "regs.append(regUB)"
   ]
  },
  {
   "cell_type": "code",
   "execution_count": null,
   "id": "08ae619b",
   "metadata": {},
   "outputs": [],
   "source": [
    "from efficient_rsnn_bmi.core.dataloader import compute_input_firing_rates\n",
    "\n",
    "mean1, mean2 = compute_input_firing_rates(train_data, dataloader_cfg)"
   ]
  },
  {
   "cell_type": "code",
   "execution_count": null,
   "id": "a7aa078a",
   "metadata": {},
   "outputs": [],
   "source": [
    "max_delay = int(0.1 / dataloader_cfg.dt)\n",
    "max_delay = max_delay if max_delay%2==1 else max_delay+1\n",
    "\n",
    "print(f\"Max Delay: {max_delay}\")"
   ]
  },
  {
   "cell_type": "code",
   "execution_count": null,
   "id": "af785887",
   "metadata": {},
   "outputs": [],
   "source": [
    "print(f\"SIG: {max_delay // 2}\")\n",
    "print(f\"a: {-max_delay // 2}\")\n",
    "print(f\"b: {max_delay // 2}\")"
   ]
  },
  {
   "cell_type": "code",
   "execution_count": null,
   "id": "6da7e41a",
   "metadata": {},
   "outputs": [],
   "source": [
    "from efficient_rsnn_bmi.base.delays.kaiming_uni import KaimingUniformInitializer\n",
    "\n",
    "hidden_init = KaimingUniformInitializer(\n",
    "    sig_init=max_delay // 2,\n",
    "    a=-max_delay // 2,\n",
    "    b=max_delay // 2,\n",
    "    scaling=None,\n",
    "    verbose=True,\n",
    ")"
   ]
  },
  {
   "cell_type": "code",
   "execution_count": null,
   "id": "20c846a4",
   "metadata": {},
   "outputs": [],
   "source": [
    "initializers_config = {\n",
    "    \"initializer\": {\n",
    "        \"compute_nu\": True,\n",
    "        \"sigma_u\": 0.5,\n",
    "        \"nu\": 20,\n",
    "        \"alpha\": 0.9,\n",
    "        \"kaiming_gain\": 1.0\n",
    "    }\n",
    "}"
   ]
  },
  {
   "cell_type": "code",
   "execution_count": null,
   "id": "07eb0b5a",
   "metadata": {},
   "outputs": [],
   "source": [
    "from stork.initializers import (\n",
    "    FluctuationDrivenCenteredNormalInitializer,\n",
    "    DistInitializer\n",
    ")\n",
    "\n",
    "hidden_init = FluctuationDrivenCenteredNormalInitializer(\n",
    "    sigma_u=initializers_config.initializer.sigma_u,\n",
    "    nu=mean1,\n",
    "    timestep=dataloader_cfg.dt,\n",
    "    alpha=initializers_config.initializer.alpha,\n",
    "    dtype=dtype,\n",
    ")\n",
    "\n",
    "readout_init = DistInitializer(\n",
    "    dist=torch.distributions.Normal(0, 1),\n",
    "    scaling=\"1/sqrt(k)\",\n",
    "    dtype=dtype,\n",
    ")"
   ]
  },
  {
   "cell_type": "code",
   "execution_count": null,
   "id": "7deabb9d",
   "metadata": {},
   "outputs": [],
   "source": [
    "delay_config = {\n",
    "    \"delay\": {\n",
    "        \"kernel_count\": 1,\n",
    "        \"version\": \"gauss\",\n",
    "        \"groups\": 1\n",
    "    }\n",
    "}\n",
    "\n",
    "delay_config = OmegaConf.create(delay_config)"
   ]
  },
  {
   "cell_type": "code",
   "execution_count": null,
   "id": "5cc2edf8",
   "metadata": {},
   "outputs": [],
   "source": [
    "print(f\"Left Padding: {max_delay - 1}\")\n",
    "print(f\"Right Padding: {(max_delay - 1) // 2}\")"
   ]
  },
  {
   "cell_type": "code",
   "execution_count": null,
   "id": "ef1e00c3",
   "metadata": {},
   "outputs": [],
   "source": [
    "delay_layer = "
   ]
  },
  {
   "cell_type": "code",
   "execution_count": null,
   "id": "c77f69cf",
   "metadata": {},
   "outputs": [],
   "source": [
    "from stork.nodes import InputGroup\n",
    "from stork.layers import Layer\n",
    "from stork.connections import Connection\n",
    "from efficient_rsnn_bmi.base.lif import CustomLIFGroup\n",
    "from efficient_rsnn_bmi.base.readout import CustomReadoutGroup\n",
    "\n",
    "input_group = model.add_group(\n",
    "    InputGroup(\n",
    "       shape=nb_inputs,\n",
    "        dropout_p=model_config.model.dropout_p,\n",
    "    )\n",
    ")\n",
    "current_src_grp = input_group\n",
    "for i in range (model_config.model.nb_hidden):\n",
    "    hidden_layer = Layer(\n",
    "        name = f\"hidden_{i}\",\n",
    "        model = model,\n",
    "        size = model_config.model.hidden_size[i],\n",
    "        input_group = input_group,\n",
    "        recurrent = model_config.model.recurrent[i],\n",
    "        regs = regs,\n",
    "        neuron_class = CustomLIFGroup,\n",
    "        neuron_kwargs={\n",
    "            \"tau_mem\": model_config.model.tau_mem,\n",
    "            \"tau_syn\": model_config.model.tau_syn,\n",
    "            \"activation\": activation_function,\n",
    "            \"dropout_p\": model_config.model.dropout_p,\n",
    "            \"het_timescales\": model_config.model.het_timescales,\n",
    "            \"learn_timescales\": model_config.model.learn_timescales,\n",
    "            \"is_delta_syn\": model_config.model.delta_synapse,\n",
    "        },\n",
    "    )\n",
    "\n",
    "    current_src_grp = hidden_layer.output_group\n",
    "    print(current_src_grp)\n",
    "\n",
    "    hidden_init.initialize(hidden_layer)\n",
    "\n",
    "    if i == 0 and nb_inputs == 192 and train_data is not None:\n",
    "        with torch.no_grad():\n",
    "            hidden_layer.connections[0].weight[:, :96] /= mean2 / mean1\n",
    "        \n",
    "    # Add single RO group\n",
    "    readout_group = model.add_group(\n",
    "        CustomReadoutGroup(\n",
    "            nb_outputs,\n",
    "            tau_mem = model_config.model.tau_mem_readout,\n",
    "            tau_syn = model_config.model.tau_syn_readout,\n",
    "            het_timescales = model_config.model.het_timescales_readout,\n",
    "            learn_timescales = model_config.model.learn_timescales_readout,\n",
    "            initial_state = -1e-2,\n",
    "            is_delta_syn = model_config.model.delta_synapse,\n",
    "        )\n",
    "    )\n",
    "\n",
    "    print(\"Readout group shape: \", readout_group.shape)\n",
    "    print(\"Current source group shape: \", current_src_grp.shape)\n",
    "    print(current_src_grp, readout_group)\n",
    "    con_ro = model.add_connection(\n",
    "        Connection(current_src_grp, readout_group, dtype=dtype)\n",
    "    )\n",
    "\n",
    "    readout_init.initialize(con_ro)"
   ]
  }
 ],
 "metadata": {
  "language_info": {
   "name": "python"
  }
 },
 "nbformat": 4,
 "nbformat_minor": 5
}
