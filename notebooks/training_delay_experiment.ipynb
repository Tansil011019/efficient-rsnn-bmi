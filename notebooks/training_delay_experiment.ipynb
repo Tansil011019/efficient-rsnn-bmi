{
 "cells": [
  {
   "cell_type": "code",
   "execution_count": 1,
   "id": "768493fc",
   "metadata": {},
   "outputs": [
    {
     "name": "stdout",
     "output_type": "stream",
     "text": [
      "None\n"
     ]
    }
   ],
   "source": [
    "import __main__\n",
    "print(__main__.__package__)"
   ]
  },
  {
   "cell_type": "code",
   "execution_count": 2,
   "id": "e1ad99bb",
   "metadata": {},
   "outputs": [],
   "source": [
    "import sys\n",
    "import os\n",
    "\n",
    "sys.path.append(os.path.abspath(\"..\")) "
   ]
  },
  {
   "cell_type": "code",
   "execution_count": 3,
   "id": "52904f57",
   "metadata": {},
   "outputs": [],
   "source": [
    "from omegaconf import OmegaConf\n",
    "\n",
    "gpu_config = {\n",
    "    \"seed\": 42,\n",
    "    \"device\": \"cuda\",\n",
    "}\n",
    "\n",
    "gpu_config = OmegaConf.create(gpu_config)"
   ]
  },
  {
   "cell_type": "code",
   "execution_count": 4,
   "id": "e20a793d",
   "metadata": {},
   "outputs": [],
   "source": [
    "import torch\n",
    "import numpy as np\n",
    "\n",
    "torch.manual_seed(gpu_config.seed)\n",
    "np.random.seed(gpu_config.seed)\n",
    "\n",
    "if torch.cuda.is_available and 'cuda' in gpu_config.device:\n",
    "    torch.cuda.manual_seed(gpu_config.seed)\n",
    "    torch.backends.cudnn.deterministic = True\n",
    "    torch.backends.cudnn.benchmark = False\n",
    "\n",
    "os.environ['PYTHONASHSEED'] = str(gpu_config.seed)"
   ]
  },
  {
   "cell_type": "code",
   "execution_count": 5,
   "id": "ec220423",
   "metadata": {},
   "outputs": [],
   "source": [
    "dataloader_cfg = {\n",
    "    \"datasets\": {\n",
    "        \"data_dir\": \"/home/cc/efficient-rsnn-bmi/data/datasets\",\n",
    "        \"ratio_val\": 0.1,\n",
    "        \"random_val\": False,\n",
    "        \"extend_data\": True,\n",
    "        \"sample_duration\": 2.0,\n",
    "        \"remove_segments_inactive\": False,\n",
    "        \"p_drop\": 0.0,\n",
    "        \"p_insert\": 0.0,\n",
    "        \"jitter_sigma\": 0.0,\n",
    "        \"dtype\": \"float32\",\n",
    "        \"dt\": 4e-3,\n",
    "    }\n",
    "}\n",
    "\n",
    "dataloader_cfg = OmegaConf.create(dataloader_cfg)"
   ]
  },
  {
   "cell_type": "code",
   "execution_count": 6,
   "id": "c404bb48",
   "metadata": {},
   "outputs": [],
   "source": [
    "from efficient_rsnn_bmi.core.dataloader import get_dataloader\n",
    "\n",
    "dtype = getattr(torch, dataloader_cfg.datasets.dtype)\n",
    "dataloader = get_dataloader(dataloader_cfg, dtype=dtype)"
   ]
  },
  {
   "cell_type": "code",
   "execution_count": 7,
   "id": "5a19b9a7",
   "metadata": {},
   "outputs": [],
   "source": [
    "monkey_name = \"indy\"\n",
    "monkey_files = {\n",
    "    \"indy\": {\n",
    "        \"session01\": \"indy_20160622_01.mat\",\n",
    "        \"session02\": \"indy_20160624_03.mat\"\n",
    "    }\n",
    "}"
   ]
  },
  {
   "cell_type": "code",
   "execution_count": 8,
   "id": "1a6be615",
   "metadata": {},
   "outputs": [
    {
     "data": {
      "text/plain": [
       "['indy_20160622_01.mat', 'indy_20160624_03.mat']"
      ]
     },
     "execution_count": 8,
     "metadata": {},
     "output_type": "execute_result"
    }
   ],
   "source": [
    "filename = list(monkey_files[monkey_name].values())\n",
    "filename"
   ]
  },
  {
   "cell_type": "code",
   "execution_count": 9,
   "id": "150d60c0",
   "metadata": {},
   "outputs": [
    {
     "name": "stdout",
     "output_type": "stream",
     "text": [
      "Loading indy_20160622_01.mat\n",
      "\u001b[36m[2025-05-23 21:34:58] \u001b[33m[INFO] \u001b[32m[data.neurobench.dataloader] \u001b[37m- Extending data...\u001b[0m\n",
      "Loading indy_20160624_03.mat\n",
      "\u001b[36m[2025-05-23 21:35:21] \u001b[33m[INFO] \u001b[32m[data.neurobench.dataloader] \u001b[37m- Extending data...\u001b[0m\n"
     ]
    }
   ],
   "source": [
    "train_data, val_data, test_data = dataloader.get_multiple_sessions_data(filename)"
   ]
  },
  {
   "cell_type": "code",
   "execution_count": 10,
   "id": "9eb310f5",
   "metadata": {},
   "outputs": [
    {
     "name": "stdout",
     "output_type": "stream",
     "text": [
      "Length of train data: 4722\n",
      "Length of val data: 974\n",
      "Length of test data: 2\n",
      "Dimension of 1st spike train data: torch.Size([500, 96])\n",
      "Dimension of 1st of label train data: torch.Size([500, 2])\n",
      "Dimension of 1st spike val data: torch.Size([500, 96])\n",
      "Dimension of 1st of label val data: torch.Size([500, 2])\n",
      "Dimension of 1st spike test data: torch.Size([132745, 96])\n",
      "Dimension of 1st of label test data: torch.Size([132745, 2])\n"
     ]
    }
   ],
   "source": [
    "print(f\"Length of train data: {len(train_data)}\")\n",
    "print(f\"Length of val data: {len(val_data)}\")\n",
    "print(f\"Length of test data: {len(test_data)}\")\n",
    "print(f\"Dimension of 1st spike train data: {(train_data[0][0].shape)}\")\n",
    "print(f\"Dimension of 1st of label train data: {(train_data[0][1].shape)}\")\n",
    "print(f\"Dimension of 1st spike val data: {(val_data[0][0].shape)}\")\n",
    "print(f\"Dimension of 1st of label val data: {(val_data[0][1].shape)}\")\n",
    "print(f\"Dimension of 1st spike test data: {(test_data[0][0][0].shape)}\")\n",
    "print(f\"Dimension of 1st of label test data: {(test_data[0][0][1].shape)}\")"
   ]
  },
  {
   "cell_type": "code",
   "execution_count": 11,
   "id": "88055307",
   "metadata": {},
   "outputs": [
    {
     "name": "stdout",
     "output_type": "stream",
     "text": [
      "Data type of 1st spike train data: torch.float32\n",
      "Data type of 1st label train data: torch.float32\n",
      "Data type of 1st spike val data: torch.float32\n",
      "Data type of 1st label val data: torch.float32\n",
      "Data type of 1st spike test data: torch.float32\n",
      "Data type of 1st label test data: torch.float32\n"
     ]
    }
   ],
   "source": [
    "print(f\"Data type of 1st spike train data: {train_data[0][0].dtype}\")\n",
    "print(f\"Data type of 1st label train data: {train_data[0][1].dtype}\")\n",
    "print(f\"Data type of 1st spike val data: {val_data[0][0].dtype}\")\n",
    "print(f\"Data type of 1st label val data: {val_data[0][1].dtype}\")\n",
    "print(f\"Data type of 1st spike test data: {test_data[0][0][0].dtype}\")\n",
    "print(f\"Data type of 1st label test data: {test_data[0][0][1].dtype}\")"
   ]
  },
  {
   "cell_type": "code",
   "execution_count": 12,
   "id": "7c470d9c",
   "metadata": {},
   "outputs": [
    {
     "name": "stdout",
     "output_type": "stream",
     "text": [
      "Time Steps: 500\n",
      "Input Channels: 96\n",
      "Output Channels: 2\n"
     ]
    }
   ],
   "source": [
    "nb_time_steps = int(dataloader_cfg.datasets.sample_duration / dataloader_cfg.datasets.dt)\n",
    "nb_outputs = train_data[0][1].shape[1]\n",
    "nb_inputs = train_data[0][0].shape[1]\n",
    "\n",
    "print(f\"Time Steps: {nb_time_steps}\")\n",
    "print(f\"Input Channels: {nb_inputs}\")\n",
    "print(f\"Output Channels: {nb_outputs}\")"
   ]
  },
  {
   "cell_type": "code",
   "execution_count": 13,
   "id": "30c3cbdc",
   "metadata": {},
   "outputs": [],
   "source": [
    "training_config = {\n",
    "    \"training\": {\n",
    "        \"batch_size\": 250,\n",
    "        \"SG_beta\": 20,\n",
    "        \"LB_L2_strength\": 100,\n",
    "        \"LB_L2_thresh\": 1e-3,\n",
    "        \"UB_L2_strength\": 0.01,\n",
    "        \"UB_L2_thresh\": 10,\n",
    "    }\n",
    "}\n",
    "training_config = OmegaConf.create(training_config)"
   ]
  },
  {
   "cell_type": "code",
   "execution_count": 14,
   "id": "76606898",
   "metadata": {},
   "outputs": [],
   "source": [
    "device = \"cuda:0\""
   ]
  },
  {
   "cell_type": "code",
   "execution_count": 15,
   "id": "1e7ddc46",
   "metadata": {},
   "outputs": [],
   "source": [
    "from efficient_rsnn_bmi.experiments.models.rsnn.rsnn_delay import DelayRecurrentSpikingModel\n",
    "\n",
    "model = DelayRecurrentSpikingModel(\n",
    "    batch_size = training_config.training.batch_size,\n",
    "    nb_time_steps = nb_time_steps,\n",
    "    nb_inputs = nb_inputs,\n",
    "    device = device,\n",
    "    dtype = dtype,\n",
    ")"
   ]
  },
  {
   "cell_type": "code",
   "execution_count": 16,
   "id": "b9be3494",
   "metadata": {},
   "outputs": [],
   "source": [
    "model_config = {\n",
    "    \"model\": {\n",
    "        \"stochastic\": False,\n",
    "        \"dropout_p\": 0.3,\n",
    "        \"nb_hidden\": 1,\n",
    "        \"hidden_size\": [64],\n",
    "        \"recurrent\": [True],\n",
    "        \"multiple_readout\": False,\n",
    "        \"tau_mem_readout\": 50e-3,\n",
    "        \"tau_syn_readout\": 10e-3,\n",
    "        \"tau_mem\": 20e-3,\n",
    "        \"tau_syn\": 10e-3,\n",
    "        \"het_timescales\": True,\n",
    "        \"het_timescales_readout\": True,\n",
    "        \"learn_timescales\": True,\n",
    "        \"learn_timescales_readout\": True,\n",
    "        \"delta_synapse\": False,\n",
    "        \"is_half\": True\n",
    "    }\n",
    "}\n",
    "\n",
    "model_config = OmegaConf.create(model_config)"
   ]
  },
  {
   "cell_type": "code",
   "execution_count": 17,
   "id": "341f89d8",
   "metadata": {},
   "outputs": [],
   "source": [
    "import stork\n",
    "\n",
    "activation_function = stork.activations.CustomSpike\n",
    "\n",
    "if model_config.model.stochastic:\n",
    "    activation_function.escape_noise_type = \"sigmoid\"\n",
    "else:\n",
    "    activation_function.escape_noise_type = \"step\"\n",
    "\n",
    "activation_function.escape_noise_params = {\"beta\": training_config.training.SG_beta}\n",
    "activation_function.surrogate_type = \"SuperSpike\"\n",
    "activation_function.surrogate_params = {\"beta\": training_config.training.SG_beta}"
   ]
  },
  {
   "cell_type": "code",
   "execution_count": 18,
   "id": "18ff055a",
   "metadata": {},
   "outputs": [],
   "source": [
    "regs = []\n",
    "\n",
    "regLB = stork.regularizers.LowerBoundL2(\n",
    "    strength = training_config.training.LB_L2_strength,\n",
    "    threshold = training_config.training.LB_L2_thresh,\n",
    "    dims = False,\n",
    ")\n",
    "\n",
    "regUB = stork.regularizers.UpperBoundL2(\n",
    "    strength = training_config.training.UB_L2_strength,\n",
    "    threshold = training_config.training.UB_L2_thresh,\n",
    "    dims = 1,\n",
    ")\n",
    "\n",
    "regs.append(regLB)\n",
    "regs.append(regUB)"
   ]
  },
  {
   "cell_type": "code",
   "execution_count": 19,
   "id": "fadc9b25",
   "metadata": {},
   "outputs": [
    {
     "name": "stdout",
     "output_type": "stream",
     "text": [
      "torch.Size([500, 96])\n"
     ]
    }
   ],
   "source": [
    "from efficient_rsnn_bmi.core.dataloader import compute_input_firing_rates\n",
    "\n",
    "mean1, mean2 = compute_input_firing_rates(train_data, dataloader_cfg)"
   ]
  },
  {
   "cell_type": "code",
   "execution_count": 20,
   "id": "a3c368f6",
   "metadata": {},
   "outputs": [
    {
     "name": "stdout",
     "output_type": "stream",
     "text": [
      "Max Delay: 501\n"
     ]
    }
   ],
   "source": [
    "max_delay = int(dataloader_cfg.datasets.sample_duration / dataloader_cfg.datasets.dt)\n",
    "max_delay = max_delay if max_delay%2==1 else max_delay+1\n",
    "\n",
    "print(f\"Max Delay: {max_delay}\")"
   ]
  },
  {
   "cell_type": "code",
   "execution_count": 21,
   "id": "36ce660e",
   "metadata": {},
   "outputs": [
    {
     "name": "stdout",
     "output_type": "stream",
     "text": [
      "SIG: 250\n",
      "a: -251\n",
      "b: 250\n"
     ]
    }
   ],
   "source": [
    "print(f\"SIG: {max_delay // 2}\")\n",
    "print(f\"a: {-max_delay // 2}\")\n",
    "print(f\"b: {max_delay // 2}\")"
   ]
  },
  {
   "cell_type": "code",
   "execution_count": 22,
   "id": "fdc39a03",
   "metadata": {},
   "outputs": [],
   "source": [
    "from efficient_rsnn_bmi.base.kaiming_uni import KaimingUniformInitializer\n",
    "\n",
    "hidden_init = KaimingUniformInitializer(\n",
    "    sig_init=max_delay // 2,\n",
    "    a=-max_delay // 2,\n",
    "    b=max_delay // 2,\n",
    ")"
   ]
  },
  {
   "cell_type": "code",
   "execution_count": 23,
   "id": "324a1dad",
   "metadata": {},
   "outputs": [],
   "source": [
    "from stork.initializers import DistInitializer\n",
    "\n",
    "readout_init = DistInitializer(\n",
    "    dist=torch.distributions.Normal(0, 1),\n",
    "    scaling=\"1/sqrt(k)\",\n",
    "    dtype=dtype,\n",
    ")"
   ]
  },
  {
   "cell_type": "code",
   "execution_count": 24,
   "id": "c3966e50",
   "metadata": {},
   "outputs": [],
   "source": [
    "delay_config = {\n",
    "    \"delay\": {\n",
    "        \"kernel_count\": 1,\n",
    "        \"version\": \"gauss\",\n",
    "        \"groups\": 1\n",
    "    }\n",
    "}\n",
    "\n",
    "delay_config = OmegaConf.create(delay_config)"
   ]
  },
  {
   "cell_type": "code",
   "execution_count": 25,
   "id": "21bac539",
   "metadata": {},
   "outputs": [
    {
     "name": "stdout",
     "output_type": "stream",
     "text": [
      "CustomLIFGroup(\n",
      "  (dropout): Dropout(p=0.3, inplace=False)\n",
      ")\n",
      "Readout group shape:  (2,)\n",
      "Current source group shape:  (64,)\n",
      "CustomLIFGroup(\n",
      "  (dropout): Dropout(p=0.3, inplace=False)\n",
      ") CustomReadoutGroup()\n"
     ]
    }
   ],
   "source": [
    "from stork.nodes import InputGroup\n",
    "from stork.layers import Layer\n",
    "from stork.connections import Connection\n",
    "from efficient_rsnn_bmi.base.lif import CustomLIFGroup\n",
    "from efficient_rsnn_bmi.base.readout import CustomReadoutGroup\n",
    "from efficient_rsnn_bmi.base.delay import CustomDelayConnection\n",
    "\n",
    "input_group = model.add_group(\n",
    "    InputGroup(\n",
    "       shape=nb_inputs,\n",
    "        dropout_p=model_config.model.dropout_p,\n",
    "    )\n",
    ")\n",
    "current_src_grp = input_group\n",
    "for i in range (model_config.model.nb_hidden):\n",
    "    hidden_layer = Layer(\n",
    "        name = f\"hidden_{i}\",\n",
    "        model = model,\n",
    "        size = model_config.model.hidden_size[i],\n",
    "        input_group = input_group,\n",
    "        recurrent = model_config.model.recurrent[i],\n",
    "        regs = regs,\n",
    "        neuron_class = CustomLIFGroup,\n",
    "        connection_class=CustomDelayConnection,\n",
    "        neuron_kwargs={\n",
    "            \"tau_mem\": model_config.model.tau_mem,\n",
    "            \"tau_syn\": model_config.model.tau_syn,\n",
    "            \"activation\": activation_function,\n",
    "            \"dropout_p\": model_config.model.dropout_p,\n",
    "            \"het_timescales\": model_config.model.het_timescales,\n",
    "            \"learn_timescales\": model_config.model.learn_timescales,\n",
    "            \"is_delta_syn\": model_config.model.delta_synapse,\n",
    "        },\n",
    "        connection_kwargs={\n",
    "            \"kernel_count\": delay_config.delay.kernel_count,\n",
    "            \"dilated_kernel_size\": max_delay,\n",
    "            \"left_padding\": max_delay - 1,\n",
    "            \"right_padding\": (max_delay - 1) // 2,\n",
    "            \"version\": delay_config.delay.version,\n",
    "            \"groups\": delay_config.delay.groups\n",
    "        }\n",
    "    )\n",
    "\n",
    "    current_src_grp = hidden_layer.output_group\n",
    "    print(current_src_grp)\n",
    "\n",
    "    hidden_init.initialize(hidden_layer)\n",
    "\n",
    "    if i == 0 and nb_inputs == 192 and train_data is not None:\n",
    "        with torch.no_grad():\n",
    "            hidden_layer.connections[0].weight[:, :96] /= mean2 / mean1\n",
    "        \n",
    "    # Add single RO group\n",
    "    readout_group = model.add_group(\n",
    "        CustomReadoutGroup(\n",
    "            nb_outputs,\n",
    "            tau_mem = model_config.model.tau_mem_readout,\n",
    "            tau_syn = model_config.model.tau_syn_readout,\n",
    "            het_timescales = model_config.model.het_timescales_readout,\n",
    "            learn_timescales = model_config.model.learn_timescales_readout,\n",
    "            initial_state = -1e-2,\n",
    "            is_delta_syn = model_config.model.delta_synapse,\n",
    "        )\n",
    "    )\n",
    "\n",
    "    print(\"Readout group shape: \", readout_group.shape)\n",
    "    print(\"Current source group shape: \", current_src_grp.shape)\n",
    "    print(current_src_grp, readout_group)\n",
    "    con_ro = model.add_connection(\n",
    "        Connection(current_src_grp, readout_group, dtype=dtype)\n",
    "    )\n",
    "\n",
    "    readout_init.initialize(con_ro)"
   ]
  },
  {
   "cell_type": "code",
   "execution_count": 26,
   "id": "b73b4884",
   "metadata": {},
   "outputs": [
    {
     "name": "stdout",
     "output_type": "stream",
     "text": [
      "\n",
      "# Model summary\n",
      "\n",
      "## Groups\n",
      "Input, (96,)\n",
      "hidden_0, (64,)\n",
      "Readout, (2,)\n",
      "\n",
      "## Connections\n",
      "CustomDelayConnection(\n",
      "  (src): InputGroup(\n",
      "    (dropout): Dropout(p=0.3, inplace=False)\n",
      "  )\n",
      "  (dst): CustomLIFGroup(\n",
      "    (dropout): Dropout(p=0.3, inplace=False)\n",
      "  )\n",
      "  (op): Dcls1d(\n",
      "    96, 64, kernel_count=1 (previous kernel_size), stride=(1,), version=gauss, dilated_kernel_size=(501,) (learnable), bias=False\n",
      "    (DCK): ConstructKernel1d(96, 64, kernel_count=1, version=gauss, dilated_kernel_size=(501,))\n",
      "  )\n",
      ")\n",
      "CustomDelayConnection(\n",
      "  (src): CustomLIFGroup(\n",
      "    (dropout): Dropout(p=0.3, inplace=False)\n",
      "  )\n",
      "  (dst): CustomLIFGroup(\n",
      "    (dropout): Dropout(p=0.3, inplace=False)\n",
      "  )\n",
      "  (op): Dcls1d(\n",
      "    64, 64, kernel_count=1 (previous kernel_size), stride=(1,), version=gauss, dilated_kernel_size=(501,) (learnable), bias=False\n",
      "    (DCK): ConstructKernel1d(64, 64, kernel_count=1, version=gauss, dilated_kernel_size=(501,))\n",
      "  )\n",
      ")\n",
      "Connection(\n",
      "  (src): CustomLIFGroup(\n",
      "    (dropout): Dropout(p=0.3, inplace=False)\n",
      "  )\n",
      "  (dst): CustomReadoutGroup()\n",
      "  (op): Linear(in_features=64, out_features=2, bias=False)\n",
      ")\n"
     ]
    }
   ],
   "source": [
    "model.summary()"
   ]
  }
 ],
 "metadata": {
  "kernelspec": {
   "display_name": "efficient-rsnn-bmi",
   "language": "python",
   "name": "python3"
  },
  "language_info": {
   "codemirror_mode": {
    "name": "ipython",
    "version": 3
   },
   "file_extension": ".py",
   "mimetype": "text/x-python",
   "name": "python",
   "nbconvert_exporter": "python",
   "pygments_lexer": "ipython3",
   "version": "3.12.10"
  }
 },
 "nbformat": 4,
 "nbformat_minor": 5
}
