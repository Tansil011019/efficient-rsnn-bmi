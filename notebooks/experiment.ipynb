{
 "cells": [
  {
   "cell_type": "code",
   "execution_count": 2,
   "id": "9657f360",
   "metadata": {},
   "outputs": [
    {
     "name": "stdout",
     "output_type": "stream",
     "text": [
      "<KeysViewHDF5 ['#refs#', 'chan_names', 'cursor_pos', 'finger_pos', 'spikes', 't', 'target_pos', 'wf']>\n"
     ]
    }
   ],
   "source": [
    "mat_file = \"/home/cc/efficient-rsnn-bmi/data/datasets/indy_20160622_01.mat\"\n",
    "\n",
    "import h5py\n",
    "data = h5py.File(mat_file)\n",
    "print(data.keys())"
   ]
  },
  {
   "cell_type": "code",
   "execution_count": 3,
   "id": "f82a9b0d",
   "metadata": {},
   "outputs": [
    {
     "name": "stdout",
     "output_type": "stream",
     "text": [
      "<HDF5 dataset \"spikes\": shape (5, 96), type \"|O\">\n"
     ]
    }
   ],
   "source": [
    "spikes = data['spikes']\n",
    "print(spikes)"
   ]
  },
  {
   "cell_type": "code",
   "execution_count": 4,
   "id": "7ea0299a",
   "metadata": {},
   "outputs": [],
   "source": [
    "import matplotlib.pyplot as plt\n",
    "\n",
    "spikes = spikes[:]"
   ]
  },
  {
   "cell_type": "code",
   "execution_count": 13,
   "id": "2b783273",
   "metadata": {},
   "outputs": [
    {
     "data": {
      "text/plain": [
       "(5, 96)"
      ]
     },
     "execution_count": 13,
     "metadata": {},
     "output_type": "execute_result"
    }
   ],
   "source": [
    "spikes.shape"
   ]
  },
  {
   "cell_type": "code",
   "execution_count": 15,
   "id": "7b94bfcd",
   "metadata": {},
   "outputs": [],
   "source": [
    "spike_refs = data['spikes']"
   ]
  },
  {
   "cell_type": "code",
   "execution_count": 29,
   "id": "f0c973be",
   "metadata": {},
   "outputs": [],
   "source": [
    "spikes = data['spikes'][()]\n",
    "spike_data = data[(spikes[0, 0])][:].squeeze()"
   ]
  },
  {
   "cell_type": "code",
   "execution_count": 35,
   "id": "a0c96ff6",
   "metadata": {},
   "outputs": [],
   "source": [
    "import numpy as np\n",
    "\n",
    "spike_matrix = np.zeros((1, len(spike_data)))"
   ]
  },
  {
   "cell_type": "code",
   "execution_count": 36,
   "id": "3a89a2c8",
   "metadata": {},
   "outputs": [],
   "source": [
    "spike_matrix[0, :len(spike_data)] = spike_data[:len(spike_data)]"
   ]
  },
  {
   "cell_type": "code",
   "execution_count": 37,
   "id": "9624c17e",
   "metadata": {},
   "outputs": [
    {
     "name": "stdout",
     "output_type": "stream",
     "text": [
      "[[2277.18576538 2277.20149384 2277.78103035 ... 4735.65533253\n",
      "  4735.99275752 4736.63258706]]\n"
     ]
    }
   ],
   "source": [
    "print(spike_matrix)"
   ]
  },
  {
   "cell_type": "code",
   "execution_count": 40,
   "id": "03c52e65",
   "metadata": {},
   "outputs": [
    {
     "data": {
      "text/plain": [
       "(1, 11313)"
      ]
     },
     "execution_count": 40,
     "metadata": {},
     "output_type": "execute_result"
    }
   ],
   "source": [
    "spike_matrix.shape"
   ]
  },
  {
   "cell_type": "code",
   "execution_count": 44,
   "id": "dceaad2a",
   "metadata": {},
   "outputs": [
    {
     "data": {
      "image/png": "[encoded data removed]",
      "text/plain": [
       "<Figure size 1200x200 with 1 Axes>"
      ]
     },
     "metadata": {},
     "output_type": "display_data"
    }
   ],
   "source": [
    "import matplotlib.pyplot as plt\n",
    "\n",
    "plt.figure(figsize=(12, 2))\n",
    "plt.eventplot(spike_data, lineoffsets=1, linelengths=0.9, colors='black')\n",
    "plt.xlim(2200, 2600)  # Adjust this window to match your interest\n",
    "plt.title(\"Spike Times (Zoomed In)\")\n",
    "plt.xlabel(\"Time (ms or s)\")\n",
    "plt.yticks([])\n",
    "plt.show()\n",
    "\n"
   ]
  },
  {
   "cell_type": "code",
   "execution_count": 45,
   "id": "3775cc30",
   "metadata": {},
   "outputs": [],
   "source": [
    "dataset = h5py.File(mat_file, \"r\")\n",
    "spikes = dataset[\"spikes\"][()]\n",
    "cursor_pos = dataset[\"cursor_pos\"][()]\n",
    "target_pos = dataset[\"target_pos\"][()]\n",
    "t = np.squeeze(dataset[\"t\"][()])\n",
    "# new_t = np.arange(t[0] - self.bin_width, t[-1], SAMPLING_RATE)"
   ]
  },
  {
   "cell_type": "code",
   "execution_count": 46,
   "id": "5bbb1c43",
   "metadata": {},
   "outputs": [],
   "source": [
    "spike_train = np.zeros((*spikes.shape, len(t)), dtype=np.int8)"
   ]
  },
  {
   "cell_type": "code",
   "execution_count": 74,
   "id": "d061ec74",
   "metadata": {},
   "outputs": [
    {
     "data": {
      "image/png": "[encoded data removed]",
      "text/plain": [
       "<Figure size 1000x200 with 1 Axes>"
      ]
     },
     "metadata": {},
     "output_type": "display_data"
    }
   ],
   "source": [
    "import matplotlib.pyplot as plt\n",
    "import numpy as np\n",
    "\n",
    "# Get first unit's spike times\n",
    "ref = spikes[1, 6] # u x n channel\n",
    "raw_spike_times = dataset[ref][()].squeeze()  # shape: (n_spikes,)\n",
    "\n",
    "# Optional: limit to first 50 spikes\n",
    "raw_spike_times = raw_spike_times[:50]\n",
    "\n",
    "# Plot as vertical lines using eventplot\n",
    "plt.figure(figsize=(10, 2))\n",
    "plt.eventplot(raw_spike_times, lineoffsets=1, linelengths=0.9, colors='black')\n",
    "plt.title(\"Raw Spike Times (First 50 Spikes of One Unit)\")\n",
    "plt.xlabel(\"Time (s)\")\n",
    "plt.yticks([])\n",
    "plt.show()\n"
   ]
  },
  {
   "cell_type": "code",
   "execution_count": 68,
   "id": "443d86e1",
   "metadata": {},
   "outputs": [
    {
     "data": {
      "text/plain": [
       "array([2278.70601961, 2278.81538157, 2279.45136032, 2280.19559513,\n",
       "       2282.08305181, 2282.16042438, 2282.18467243, 2283.32687014,\n",
       "       2283.35722116, 2283.47747837, 2283.63771209, 2285.4226469 ,\n",
       "       2285.45377615, 2285.51460107, 2285.54429674, 2285.59881388,\n",
       "       2285.61474714, 2286.22610922, 2286.72421818, 2287.50302291,\n",
       "       2287.50834765, 2287.61131993, 2288.50526188, 2288.53499851,\n",
       "       2288.59447176, 2289.0819722 , 2289.16008205, 2289.28640127,\n",
       "       2289.45073094, 2289.70193579, 2289.7272488 , 2289.79061322,\n",
       "       2289.81211698, 2289.91766971, 2289.9667802 , 2290.7821208 ,\n",
       "       2290.82688957, 2290.90053483, 2291.04798917, 2291.0740804 ,\n",
       "       2291.20445461, 2291.33687681, 2291.78177933, 2291.8370747 ,\n",
       "       2291.94328279, 2291.98112941, 2292.01070219, 2292.31421238,\n",
       "       2292.33624862, 2292.48337528])"
      ]
     },
     "execution_count": 68,
     "metadata": {},
     "output_type": "execute_result"
    }
   ],
   "source": [
    "raw_spike_times"
   ]
  },
  {
   "cell_type": "code",
   "execution_count": 81,
   "id": "f4b050b3",
   "metadata": {},
   "outputs": [
    {
     "name": "stdout",
     "output_type": "stream",
     "text": [
      "<KeysViewHDF5 ['#refs#', 'chan_names', 'cursor_pos', 'finger_pos', 'spikes', 't', 'target_pos', 'wf']>\n"
     ]
    }
   ],
   "source": [
    "mat_file = \"/home/cc/efficient-rsnn-bmi/data/datasets/indy_20160622_01.mat\"\n",
    "\n",
    "import h5py\n",
    "data = h5py.File(mat_file)\n",
    "print(data.keys())"
   ]
  },
  {
   "cell_type": "code",
   "execution_count": 82,
   "id": "8b342bfd",
   "metadata": {},
   "outputs": [],
   "source": [
    "t = np.squeeze(data[\"t\"][()])"
   ]
  },
  {
   "cell_type": "code",
   "execution_count": 83,
   "id": "f7a3fe0e",
   "metadata": {},
   "outputs": [
    {
     "data": {
      "text/plain": [
       "612420"
      ]
     },
     "execution_count": 83,
     "metadata": {},
     "output_type": "execute_result"
    }
   ],
   "source": [
    "len(t)"
   ]
  },
  {
   "cell_type": "code",
   "execution_count": 1,
   "id": "aaecfbc2",
   "metadata": {},
   "outputs": [
    {
     "name": "stdout",
     "output_type": "stream",
     "text": [
      "172\n"
     ]
    }
   ],
   "source": [
    "import json\n",
    "\n",
    "file_path = '/home/cc/efficient-rsnn-bmi/notebooks/synaps-delay-0.05.json'\n",
    "\n",
    "with open(file_path, 'r') as f:\n",
    "    data = json.load(f)\n",
    "    print(len(data['train_loss']))"
   ]
  },
  {
   "cell_type": "code",
   "execution_count": 1,
   "id": "83f9cbee",
   "metadata": {},
   "outputs": [
    {
     "data": {
      "image/png": "[encoded data removed]",
      "text/plain": [
       "<Figure size 800x500 with 1 Axes>"
      ]
     },
     "metadata": {},
     "output_type": "display_data"
    }
   ],
   "source": [
    "import numpy as np\n",
    "import matplotlib.pyplot as plt\n",
    "\n",
    "# Settings\n",
    "n_steps = 100\n",
    "x = np.linspace(0, 1, n_steps + 1)\n",
    "exp_bases = [1.5, 2, 5]\n",
    "\n",
    "# Plot\n",
    "plt.figure(figsize=(8, 5))\n",
    "\n",
    "for base in exp_bases:\n",
    "    y = (base**x - 1) / (base - 1)  # normalized exponential interpolation\n",
    "    plt.plot(x, y, label=f'exp base = {base}')\n",
    "\n",
    "# Add linear reference\n",
    "plt.plot(x, x, 'k--', label='linear')\n",
    "\n",
    "plt.title(\"Normalized Exponential Interpolation\")\n",
    "plt.xlabel(\"Raw Alpha\")\n",
    "plt.ylabel(\"Interpolated Alpha\")\n",
    "plt.grid(True)\n",
    "plt.legend()\n",
    "plt.tight_layout()\n",
    "plt.show()\n"
   ]
  },
  {
   "cell_type": "code",
   "execution_count": 2,
   "id": "1387442e",
   "metadata": {},
   "outputs": [],
   "source": [
    "import torch\n",
    "\n",
    "def exponential_interpolate(A, B, n_steps):\n",
    "    \"\"\"\n",
    "    Performs exponential interpolation between two tensors A and B.\n",
    "\n",
    "    Args:\n",
    "        A (torch.Tensor): The starting tensor.\n",
    "        B (torch.Tensor): The ending tensor.\n",
    "        n_steps (int): The number of interpolation steps.\n",
    "\n",
    "    Returns:\n",
    "        torch.Tensor: A tensor containing the interpolated values,\n",
    "                      with shape (n_steps + 1, ...).\n",
    "    \"\"\"\n",
    "    device = A.device\n",
    "    alphas = torch.linspace(0, 1, n_steps + 1, device=device)\n",
    "    alphas = alphas.view((-1,) + (1,) * (A.dim() - 1)) # Reshape for broadcasting\n",
    "\n",
    "    # Ensure A and B are positive for the log operation\n",
    "    # A small epsilon is added to avoid log(0)\n",
    "    interpolated = torch.exp(\n",
    "        (1 - alphas) * torch.log(A + 1e-8) + alphas * torch.log(B + 1e-8)\n",
    "    )\n",
    "\n",
    "    return interpolated"
   ]
  },
  {
   "cell_type": "code",
   "execution_count": 3,
   "id": "baf0435d",
   "metadata": {},
   "outputs": [
    {
     "ename": "RuntimeError",
     "evalue": "The size of tensor a (11) must match the size of tensor b (250) at non-singleton dimension 0",
     "output_type": "error",
     "traceback": [
      "\u001b[31m---------------------------------------------------------------------------\u001b[39m",
      "\u001b[31mRuntimeError\u001b[39m                              Traceback (most recent call last)",
      "\u001b[36mCell\u001b[39m\u001b[36m \u001b[39m\u001b[32mIn[3]\u001b[39m\u001b[32m, line 3\u001b[39m\n\u001b[32m      1\u001b[39m A = torch.randn(\u001b[32m250\u001b[39m, \u001b[32m64\u001b[39m)\n\u001b[32m      2\u001b[39m B = torch.randn(\u001b[32m250\u001b[39m, \u001b[32m64\u001b[39m)\n\u001b[32m----> \u001b[39m\u001b[32m3\u001b[39m interpolated_tensors = \u001b[43mexponential_interpolate\u001b[49m\u001b[43m(\u001b[49m\u001b[43mA\u001b[49m\u001b[43m,\u001b[49m\u001b[43m \u001b[49m\u001b[43mB\u001b[49m\u001b[43m,\u001b[49m\u001b[43m \u001b[49m\u001b[32;43m10\u001b[39;49m\u001b[43m)\u001b[49m\n\u001b[32m      4\u001b[39m \u001b[38;5;28mprint\u001b[39m(interpolated_tensors.shape) \u001b[38;5;66;03m# Should be (11, 250, 64)\u001b[39;00m\n",
      "\u001b[36mCell\u001b[39m\u001b[36m \u001b[39m\u001b[32mIn[2]\u001b[39m\u001b[32m, line 23\u001b[39m, in \u001b[36mexponential_interpolate\u001b[39m\u001b[34m(A, B, n_steps)\u001b[39m\n\u001b[32m     18\u001b[39m alphas = alphas.view((-\u001b[32m1\u001b[39m,) + (\u001b[32m1\u001b[39m,) * (A.dim() - \u001b[32m1\u001b[39m)) \u001b[38;5;66;03m# Reshape for broadcasting\u001b[39;00m\n\u001b[32m     20\u001b[39m \u001b[38;5;66;03m# Ensure A and B are positive for the log operation\u001b[39;00m\n\u001b[32m     21\u001b[39m \u001b[38;5;66;03m# A small epsilon is added to avoid log(0)\u001b[39;00m\n\u001b[32m     22\u001b[39m interpolated = torch.exp(\n\u001b[32m---> \u001b[39m\u001b[32m23\u001b[39m     \u001b[43m(\u001b[49m\u001b[32;43m1\u001b[39;49m\u001b[43m \u001b[49m\u001b[43m-\u001b[49m\u001b[43m \u001b[49m\u001b[43malphas\u001b[49m\u001b[43m)\u001b[49m\u001b[43m \u001b[49m\u001b[43m*\u001b[49m\u001b[43m \u001b[49m\u001b[43mtorch\u001b[49m\u001b[43m.\u001b[49m\u001b[43mlog\u001b[49m\u001b[43m(\u001b[49m\u001b[43mA\u001b[49m\u001b[43m \u001b[49m\u001b[43m+\u001b[49m\u001b[43m \u001b[49m\u001b[32;43m1e-8\u001b[39;49m\u001b[43m)\u001b[49m + alphas * torch.log(B + \u001b[32m1e-8\u001b[39m)\n\u001b[32m     24\u001b[39m )\n\u001b[32m     26\u001b[39m \u001b[38;5;28;01mreturn\u001b[39;00m interpolated\n",
      "\u001b[31mRuntimeError\u001b[39m: The size of tensor a (11) must match the size of tensor b (250) at non-singleton dimension 0"
     ]
    }
   ],
   "source": [
    "A = torch.randn(250, 64)\n",
    "B = torch.randn(250, 64)\n",
    "interpolated_tensors = exponential_interpolate(A, B, 10)\n",
    "print(interpolated_tensors.shape) # Should be (11, 250, 64)"
   ]
  },
  {
   "cell_type": "code",
   "execution_count": 3,
   "id": "1b9e61a2",
   "metadata": {},
   "outputs": [],
   "source": [
    "import json\n",
    "import matplotlib.pyplot as plt\n",
    "import numpy as np\n",
    "\n",
    "def plot_training_logs(json_file_no_delay, json_file_with_delay, json_file_with_interpolation):\n",
    "    \"\"\"\n",
    "    Loads training logs from two JSON files and plots loss and R² scores.\n",
    "\n",
    "    Args:\n",
    "        json_file_no_delay (str): Path to the JSON file without delay logs.\n",
    "        json_file_with_delay (str): Path to the JSON file with delay logs.\n",
    "    \"\"\"\n",
    "    try:\n",
    "        # Load the data from JSON files\n",
    "        with open(json_file_no_delay, 'r') as f:\n",
    "            data_baseline = json.load(f)\n",
    "\n",
    "        with open(json_file_with_delay, 'r') as f:\n",
    "            data_with_delay = json.load(f)\n",
    "\n",
    "        with open(json_file_with_interpolation, 'r') as f:\n",
    "            data_with_interpolation = json.load(f)\n",
    "\n",
    "        print(\"Successfully loaded both JSON files.\")\n",
    "\n",
    "        # --- Data Preparation ---\n",
    "        # Ensure both logs have the same number of epochs for fair plotting\n",
    "        min_epochs = min(len(data_baseline['loss']), len(data_with_delay['loss']))\n",
    "        epochs = np.arange(1, min_epochs + 1)\n",
    "\n",
    "        # Slice data to the minimum number of epochs\n",
    "        data_baseline = {k: v[:min_epochs] for k, v in data_baseline.items() if isinstance(v, list)}\n",
    "        data_with_delay = {k: v[:min_epochs] for k, v in data_with_delay.items() if isinstance(v, list)}\n",
    "        data_with_interpolation = {k: v[:min_epochs] for k, v in data_with_interpolation.items() if isinstance(v, list)}\n",
    "\n",
    "\n",
    "        # --- Plotting ---\n",
    "        plt.style.use('seaborn-v0_8-whitegrid')\n",
    "        fig, axes = plt.subplots(1, 2, figsize=(16, 6)) # Create 1 row, 2 columns of plots\n",
    "\n",
    "        # Plot 1: Loss vs. Epoch\n",
    "        axes[0].plot(epochs, data_baseline['loss'], 'o-', label='Train Loss (Baseline)', color='tab:blue', alpha=0.8)\n",
    "        axes[0].plot(epochs, data_baseline['val_loss'], 's--', label='Validation Loss (Baseline)', color='tab:blue', alpha=0.8)\n",
    "        axes[0].plot(epochs, data_with_delay['loss'], 'o-', label='Train Loss (With Delay)', color='tab:orange', alpha=0.8)\n",
    "        axes[0].plot(epochs, data_with_delay['val_loss'], 's--', label='Validation Loss (With Delay)', color='tab:orange', alpha=0.8)\n",
    "        axes[0].plot(epochs, data_with_interpolation['loss'], 'o-', label='Train Loss (With Interpolation)', color='tab:purple', alpha=0.8)\n",
    "        axes[0].plot(epochs, data_with_interpolation['val_loss'], 's--', label='Validation Loss (With Interpolation)', color='tab:purple', alpha=0.8)\n",
    "        axes[0].set_title('Training and Validation Loss')\n",
    "        axes[0].set_xlabel('Epoch')\n",
    "        axes[0].set_ylabel('Loss (RMSE)')\n",
    "        axes[0].legend(loc='upper right')\n",
    "        axes[0].grid(True, which='both', linestyle='--', linewidth=0.5)\n",
    "        axes[0].set_xticks(epochs) # Ensure ticks for each epoch\n",
    "\n",
    "        # Plot 2: R² vs. Epoch\n",
    "        axes[1].plot(epochs, data_baseline['r2'], 'o-', label='Train R² (Baseline)', color='tab:green', alpha=0.8)\n",
    "        axes[1].plot(epochs, data_baseline['val_r2'], 's--', label='Validation R² (Baseline)', color='tab:green', alpha=0.8)\n",
    "        axes[1].plot(epochs, data_with_delay['r2'], 'o-', label='Train R² (With Delay)', color='tab:red', alpha=0.8)\n",
    "        axes[1].plot(epochs, data_with_delay['val_r2'], 's--', label='Validation R² (With Delay)', color='tab:red', alpha=0.8)\n",
    "        axes[1].plot(epochs, data_with_interpolation['r2'], 'o-', label='Train R² (With Interpolation)', color='tab:orange', alpha=0.8)\n",
    "        axes[1].plot(epochs, data_with_interpolation['val_r2'], 's--', label='Validation R² (With Interpolation)', color='tab:orange', alpha=0.8)\n",
    "        axes[1].set_title('Training and Validation R² Score')\n",
    "        axes[1].set_xlabel('Epoch')\n",
    "        axes[1].set_ylabel('R² Score')\n",
    "        axes[1].legend(loc='lower right')\n",
    "        axes[1].grid(True, which='both', linestyle='--', linewidth=0.5)\n",
    "        axes[1].set_xticks(epochs) # Ensure ticks for each epoch\n",
    "        axes[1].axhline(0, color='black', linewidth=0.5, linestyle=':') # Add R² = 0 line\n",
    "\n",
    "        # --- Display Plot ---\n",
    "        plt.tight_layout() # Adjust layout to prevent overlap\n",
    "        plt.show()\n",
    "\n",
    "    except FileNotFoundError:\n",
    "        print(\"Error: Make sure both JSON files exist in the same directory.\")\n",
    "    except Exception as e:\n",
    "        print(f\"An error occurred: {e}\")\n",
    "\n",
    "# --- How to use it ---\n",
    "# 1. Save this code as a Python file (e.g., plot_logs.py).\n",
    "# 2. Make sure your two JSON files:\n",
    "#    - training_early_5epoch_result.json\n",
    "#    - training_early_5epoch_delay_result.json\n",
    "#    are in the SAME directory as the Python file.\n",
    "# 3. Run the script from your terminal: python plot_logs.py\n",
    "# 4. If you want to use it in a Jupyter Notebook or Google Colab,\n",
    "#    you can paste this code into a cell and run it, ensuring you\n",
    "#    upload the JSON files first.\n",
    "\n",
    "# Example call (if running as a script, you'd call it like this):\n",
    "# plot_training_logs('training_early_5epoch_result.json', 'training_early_5epoch_delay_result.json')"
   ]
  },
  {
   "cell_type": "code",
   "execution_count": 4,
   "id": "09059498",
   "metadata": {},
   "outputs": [
    {
     "name": "stdout",
     "output_type": "stream",
     "text": [
      "Successfully loaded both JSON files.\n"
     ]
    },
    {
     "data": {
      "image/png": "[encoded data removed]",
      "text/plain": [
       "<Figure size 1600x600 with 2 Axes>"
      ]
     },
     "metadata": {},
     "output_type": "display_data"
    }
   ],
   "source": [
    "plot_training_logs('training_early_5epoch_result.json', 'training_early_5epoch_delay_result.json', 'training_interpolation_early_5epoch_result.json')"
   ]
  },
  {
   "cell_type": "code",
   "execution_count": null,
   "id": "c6a5ddcb",
   "metadata": {},
   "outputs": [
    {
     "name": "stdout",
     "output_type": "stream",
     "text": [
      "Plots generated: loss_comparison_plots.png and r2_score_comparison_plots.png\n"
     ]
    }
   ],
   "source": [
    "import json\n",
    "import matplotlib.pyplot as plt\n",
    "import pandas as pd\n",
    "\n",
    "# List of file names and corresponding titles for the plots\n",
    "files_info = [\n",
    "    {\n",
    "        \"fileName\": \"results/0.1_lr_delay_pretraining_results_on_indy.json\", # Ensure this path is correct\n",
    "        \"title\": \"0.1 LR Delay Pre-training\"\n",
    "    },\n",
    "    {\n",
    "        \"fileName\": \"results/2keys_interpolation_pretraining_results_on_indy.json\", # Ensure this path is correct\n",
    "        \"title\": \"2 Keys Interpolation Pre-training\"\n",
    "    },\n",
    "    {\n",
    "        \"fileName\": \"results/baseline_pretraining_results_on_indy.json\", # Ensure this path is correct\n",
    "        \"title\": \"Baseline Pre-training\"\n",
    "    },\n",
    "    {\n",
    "        \"fileName\": \"results/8keys_interpolation_pretraining_results_on_indy.json\", # Ensure this path is correct\n",
    "        \"title\": \"8 Keys Interpolation Pre-training\"\n",
    "    }\n",
    "]\n",
    "\n",
    "# Create Figure 1: Training and Validation Loss Comparison\n",
    "fig1, axes1 = plt.subplots(2, 2, figsize=(15, 10))\n",
    "fig1.suptitle('Training and Validation Loss Comparison', fontsize=16)\n",
    "axes1 = axes1.ravel() # Flatten the 2x2 array of axes for easy iteration\n",
    "\n",
    "for i, file_info in enumerate(files_info):\n",
    "    try:\n",
    "        with open(file_info[\"fileName\"], 'r') as f:\n",
    "            data = json.load(f)\n",
    "        \n",
    "        df = pd.DataFrame(data)\n",
    "        \n",
    "        if 'train_loss' not in df.columns or 'val_loss' not in df.columns:\n",
    "            print(f\"Skipping loss plot for {file_info['title']} due to missing columns.\")\n",
    "            axes1[i].set_title(f\"{file_info['title']}\\n(Data Missing)\")\n",
    "            axes1[i].text(0.5, 0.5, 'Loss data not available', horizontalalignment='center', verticalalignment='center')\n",
    "            continue\n",
    "\n",
    "        epochs_train_loss = range(1, len(df['train_loss']) + 1)\n",
    "        # val_loss often has a different number of entries due to evaluation frequency.\n",
    "        # Create a simple epoch list based on its length.\n",
    "        epochs_val_loss = range(1, len(df['val_loss']) + 1) \n",
    "        \n",
    "        axes1[i].plot(epochs_train_loss, df['train_loss'], label='Train Loss')\n",
    "        axes1[i].plot(epochs_val_loss, df['val_loss'], label='Validation Loss', linestyle='--')\n",
    "        axes1[i].set_xlabel('Epochs')\n",
    "        axes1[i].set_ylabel('Loss')\n",
    "        axes1[i].set_title(file_info[\"title\"])\n",
    "        axes1[i].legend()\n",
    "        axes1[i].grid(True)\n",
    "    except Exception as e:\n",
    "        print(f\"Error processing file {file_info['fileName']} for loss plot: {e}\")\n",
    "        axes1[i].set_title(f\"{file_info['title']}\\n(Error Loading Data)\")\n",
    "        axes1[i].text(0.5, 0.5, 'Error loading data', horizontalalignment='center', verticalalignment='center')\n",
    "\n",
    "\n",
    "plt.tight_layout(rect=[0, 0, 1, 0.96]) \n",
    "plt.savefig('loss_comparison_plots.png')\n",
    "plt.close(fig1) \n",
    "\n",
    "# Create Figure 2: Training and Validation R2 Score Comparison\n",
    "fig2, axes2 = plt.subplots(2, 2, figsize=(15, 10))\n",
    "fig2.suptitle(r'Training and Validation $R^2$ Score Comparison', fontsize=16)\n",
    "axes2 = axes2.ravel() \n",
    "\n",
    "for i, file_info in enumerate(files_info):\n",
    "    try:\n",
    "        with open(file_info[\"fileName\"], 'r') as f:\n",
    "            data = json.load(f)\n",
    "            \n",
    "        df = pd.DataFrame(data)\n",
    "\n",
    "        if 'train_r2' not in df.columns or 'val_r2' not in df.columns:\n",
    "            print(f\"Skipping R2 plot for {file_info['title']} due to missing columns.\")\n",
    "            axes2[i].set_title(f\"{file_info['title']}\\n(Data Missing)\")\n",
    "            axes2[i].text(0.5, 0.5, r'$R^2$ data not available', horizontalalignment='center', verticalalignment='center')\n",
    "            continue\n",
    "            \n",
    "        epochs_train_r2 = range(1, len(df['train_r2']) + 1)\n",
    "        epochs_val_r2 = range(1, len(df['val_r2']) + 1)\n",
    "                \n",
    "        axes2[i].plot(epochs_train_r2, df['train_r2'], label=r'Train $R^2$') \n",
    "        axes2[i].plot(epochs_val_r2, df['val_r2'], label=r'Validation $R^2$', linestyle='--') \n",
    "        axes2[i].set_xlabel('Epochs')\n",
    "        axes2[i].set_ylabel(r'$R^2$ Score') \n",
    "        axes2[i].set_title(file_info[\"title\"])\n",
    "        axes2[i].legend()\n",
    "        axes2[i].grid(True)\n",
    "    except Exception as e:\n",
    "        print(f\"Error processing file {file_info['fileName']} for R2 plot: {e}\")\n",
    "        axes2[i].set_title(f\"{file_info['title']}\\n(Error Loading Data)\")\n",
    "        axes2[i].text(0.5, 0.5, 'Error loading data', horizontalalignment='center', verticalalignment='center')\n",
    "\n",
    "plt.tight_layout(rect=[0, 0, 1, 0.96]) \n",
    "plt.savefig('r2_score_comparison_plots.png')\n",
    "plt.close(fig2)\n",
    "\n",
    "print(\"Plots generated: loss_comparison_plots.png and r2_score_comparison_plots.png\")"
   ]
  },
  {
   "cell_type": "code",
   "execution_count": 8,
   "id": "97604aeb",
   "metadata": {},
   "outputs": [
    {
     "name": "stdout",
     "output_type": "stream",
     "text": [
      "Combined comparison plots generated: combined_loss_comparison.png and combined_r2_score_comparison.png\n"
     ]
    }
   ],
   "source": [
    "import json\n",
    "import matplotlib.pyplot as plt\n",
    "import pandas as pd\n",
    "\n",
    "# List of file names and corresponding titles for the plots\n",
    "files_info = [\n",
    "    {\n",
    "        \"fileName\": \"results/0.1_lr_delay_pretraining_results_on_indy.json\", # Ensure this path is correct\n",
    "        \"title\": \"0.1 LR Delay Pre-training\"\n",
    "    },\n",
    "    {\n",
    "        \"fileName\": \"results/2keys_interpolation_pretraining_results_on_indy.json\", # Ensure this path is correct\n",
    "        \"title\": \"2 Keys Interpolation Pre-training\"\n",
    "    },\n",
    "    {\n",
    "        \"fileName\": \"results/baseline_pretraining_results_on_indy.json\", # Ensure this path is correct\n",
    "        \"title\": \"Baseline Pre-training\"\n",
    "    },\n",
    "    {\n",
    "        \"fileName\": \"results/8keys_interpolation_pretraining_results_on_indy.json\", # Ensure this path is correct\n",
    "        \"title\": \"8 Keys Interpolation Pre-training\"\n",
    "    }\n",
    "]\n",
    "\n",
    "# Create Figure 1: Combined Loss Metrics Comparison\n",
    "fig1, axes1 = plt.subplots(2, 1, figsize=(12, 10), sharex=True) # Shared X for easier comparison\n",
    "fig1.suptitle('Combined Loss Metrics Comparison', fontsize=16)\n",
    "\n",
    "# Top subplot for Training Loss\n",
    "axes1[0].set_title('All Training Losses')\n",
    "axes1[0].set_ylabel('Training Loss')\n",
    "axes1[0].grid(True)\n",
    "\n",
    "# Bottom subplot for Validation Loss\n",
    "axes1[1].set_title('All Validation Losses')\n",
    "axes1[1].set_xlabel('Epochs')\n",
    "axes1[1].set_ylabel('Validation Loss')\n",
    "axes1[1].grid(True)\n",
    "\n",
    "for file_info in files_info:\n",
    "    try:\n",
    "        with open(file_info[\"fileName\"], 'r') as f:\n",
    "            data = json.load(f)\n",
    "        df = pd.DataFrame(data)\n",
    "\n",
    "        if 'train_loss' in df.columns:\n",
    "            epochs_train_loss = range(1, len(df['train_loss']) + 1)\n",
    "            axes1[0].plot(epochs_train_loss, df['train_loss'], label=f\"{file_info[\"title\"]} Train Loss\")\n",
    "        else:\n",
    "            print(f\"Train loss not found in {file_info['fileName']}\")\n",
    "            \n",
    "        if 'val_loss' in df.columns:\n",
    "            # val_loss can have a different number of entries. Plotting based on its own length.\n",
    "            epochs_val_loss = range(1, len(df['val_loss']) + 1)\n",
    "            axes1[1].plot(epochs_val_loss, df['val_loss'], label=f\"{file_info[\"title\"]} Val Loss\", linestyle='--')\n",
    "        else:\n",
    "            print(f\"Validation loss not found in {file_info['fileName']}\")\n",
    "\n",
    "    except Exception as e:\n",
    "        print(f\"Error processing file {file_info['fileName']} for loss plot: {e}\")\n",
    "        # Optionally mark on plot if a file fails\n",
    "        axes1[0].text(0.5, 0.5, f\"Error loading {file_info[\"title\"]}\", transform=axes1[0].transAxes, ha=\"center\")\n",
    "        axes1[1].text(0.5, 0.5, f\"Error loading {file_info[\"title\"]}\", transform=axes1[1].transAxes, ha=\"center\")\n",
    "\n",
    "\n",
    "axes1[0].legend(loc='upper right')\n",
    "axes1[1].legend(loc='upper right')\n",
    "plt.tight_layout(rect=[0, 0, 1, 0.96])\n",
    "plt.savefig('combined_loss_comparison.png')\n",
    "plt.close(fig1)\n",
    "\n",
    "# Create Figure 2: Combined R2 Score Metrics Comparison\n",
    "fig2, axes2 = plt.subplots(2, 1, figsize=(12, 10), sharex=True) # Shared X\n",
    "fig2.suptitle(r'Combined $R^2$ Score Metrics Comparison', fontsize=16)\n",
    "\n",
    "# Top subplot for Training R2\n",
    "axes2[0].set_title(r'All Training $R^2$ Scores')\n",
    "axes2[0].set_ylabel(r'Training $R^2$ Score')\n",
    "axes2[0].grid(True)\n",
    "\n",
    "# Bottom subplot for Validation R2\n",
    "axes2[1].set_title(r'All Validation $R^2$ Scores')\n",
    "axes2[1].set_xlabel('Epochs')\n",
    "axes2[1].set_ylabel(r'Validation $R^2$ Score')\n",
    "axes2[1].grid(True)\n",
    "\n",
    "for file_info in files_info:\n",
    "    try:\n",
    "        with open(file_info[\"fileName\"], 'r') as f:\n",
    "            data = json.load(f)\n",
    "        df = pd.DataFrame(data)\n",
    "\n",
    "        if 'train_r2' in df.columns:\n",
    "            epochs_train_r2 = range(1, len(df['train_r2']) + 1)\n",
    "            axes2[0].plot(epochs_train_r2, df['train_r2'], label=f\"{file_info['title']} Train $R^2$\")\n",
    "        else:\n",
    "            print(f\"Train R2 not found in {file_info['fileName']}\")\n",
    "\n",
    "        if 'val_r2' in df.columns:\n",
    "            epochs_val_r2 = range(1, len(df['val_r2']) + 1)\n",
    "            axes2[1].plot(epochs_val_r2, df['val_r2'], label=f\"{file_info['title']} Val $R^2$\", linestyle='--')\n",
    "        else:\n",
    "            print(f\"Validation R2 not found in {file_info['fileName']}\")\n",
    "            \n",
    "    except Exception as e:\n",
    "        print(f\"Error processing file {file_info['fileName']} for R2 plot: {e}\")\n",
    "        axes2[0].text(0.5, 0.5, f\"Error loading {file_info['title']}\", transform=axes2[0].transAxes, ha=\"center\")\n",
    "        axes2[1].text(0.5, 0.5, f\"Error loading {file_info['title']}\", transform=axes2[1].transAxes, ha=\"center\")\n",
    "\n",
    "axes2[0].legend(loc='lower right')\n",
    "axes2[1].legend(loc='lower right')\n",
    "plt.tight_layout(rect=[0, 0, 1, 0.96])\n",
    "plt.savefig('combined_r2_score_comparison.png')\n",
    "plt.close(fig2)\n",
    "\n",
    "print(\"Combined comparison plots generated: combined_loss_comparison.png and combined_r2_score_comparison.png\")"
   ]
  },
  {
   "cell_type": "code",
   "execution_count": 1,
   "id": "74f80af3",
   "metadata": {},
   "outputs": [],
   "source": [
    "import wandb"
   ]
  },
  {
   "cell_type": "code",
   "execution_count": 2,
   "id": "785f8d53",
   "metadata": {},
   "outputs": [],
   "source": [
    "from neurobench.datasets.primate_reaching import PrimateReaching"
   ]
  },
  {
   "cell_type": "code",
   "execution_count": 3,
   "id": "cecdcc95",
   "metadata": {},
   "outputs": [
    {
     "data": {
      "text/plain": [
       "dict_keys(['indy_20170131_02.mat', 'indy_20160630_01.mat', 'indy_20160622_01.mat', 'loco_20170301_05.mat', 'loco_20170215_02.mat', 'loco_20170210_03.mat'])"
      ]
     },
     "execution_count": 3,
     "metadata": {},
     "output_type": "execute_result"
    }
   ],
   "source": [
    "PrimateReaching.md5s.keys()"
   ]
  },
  {
   "cell_type": "code",
   "execution_count": 4,
   "id": "4820182e",
   "metadata": {},
   "outputs": [
    {
     "name": "stdout",
     "output_type": "stream",
     "text": [
      "2790b1c869564afaa7772dbf9e42d784\n"
     ]
    }
   ],
   "source": [
    "md5 = PrimateReaching.md5s['indy_20170131_02.mat']\n",
    "print(md5)"
   ]
  },
  {
   "cell_type": "code",
   "execution_count": 6,
   "id": "31a2b155",
   "metadata": {},
   "outputs": [
    {
     "name": "stdout",
     "output_type": "stream",
     "text": [
      "\n"
     ]
    }
   ],
   "source": [
    "import os\n",
    "print(os.path.dirname(md5))"
   ]
  },
  {
   "cell_type": "code",
   "execution_count": 18,
   "id": "e8a4b3c6",
   "metadata": {},
   "outputs": [
    {
     "ename": "KeyError",
     "evalue": "'indy_20160407_02.mat'",
     "output_type": "error",
     "traceback": [
      "\u001b[31m---------------------------------------------------------------------------\u001b[39m",
      "\u001b[31mKeyError\u001b[39m                                  Traceback (most recent call last)",
      "\u001b[36mCell\u001b[39m\u001b[36m \u001b[39m\u001b[32mIn[18]\u001b[39m\u001b[32m, line 1\u001b[39m\n\u001b[32m----> \u001b[39m\u001b[32m1\u001b[39m dataset = \u001b[43mPrimateReaching\u001b[49m\u001b[43m(\u001b[49m\n\u001b[32m      2\u001b[39m \u001b[43m    \u001b[49m\u001b[43mfile_path\u001b[49m\u001b[43m=\u001b[49m\u001b[33;43m'\u001b[39;49m\u001b[33;43m../data/datasets\u001b[39;49m\u001b[33;43m'\u001b[39;49m\u001b[43m,\u001b[49m\n\u001b[32m      3\u001b[39m \u001b[43m    \u001b[49m\u001b[43mfilename\u001b[49m\u001b[43m=\u001b[49m\u001b[33;43m'\u001b[39;49m\u001b[33;43mindy_20160407_02.mat\u001b[39;49m\u001b[33;43m'\u001b[39;49m\u001b[43m,\u001b[49m\n\u001b[32m      4\u001b[39m \u001b[43m    \u001b[49m\u001b[43mnum_steps\u001b[49m\u001b[43m=\u001b[49m\u001b[32;43m1\u001b[39;49m\u001b[43m,\u001b[49m\n\u001b[32m      5\u001b[39m \u001b[43m    \u001b[49m\u001b[43mdownload\u001b[49m\u001b[43m=\u001b[49m\u001b[38;5;28;43;01mTrue\u001b[39;49;00m\u001b[43m,\u001b[49m\n\u001b[32m      6\u001b[39m \u001b[43m    \u001b[49m\u001b[43mtrain_ratio\u001b[49m\u001b[43m=\u001b[49m\u001b[32;43m0.5\u001b[39;49m\u001b[43m,\u001b[49m\n\u001b[32m      7\u001b[39m \u001b[43m    \u001b[49m\u001b[43mremove_segments_inactive\u001b[49m\u001b[43m=\u001b[49m\u001b[38;5;28;43;01mTrue\u001b[39;49;00m\n\u001b[32m      8\u001b[39m \u001b[43m)\u001b[49m\n",
      "\u001b[36mFile \u001b[39m\u001b[32m~/efficient-rsnn-bmi/venvs/efficient-rsnn-bmi/lib/python3.12/site-packages/neurobench/datasets/primate_reaching.py:115\u001b[39m, in \u001b[36mPrimateReaching.__init__\u001b[39m\u001b[34m(self, file_path, filename, num_steps, train_ratio, label_series, biological_delay, spike_sorting, stride, bin_width, max_segment_length, split_num, remove_segments_inactive, download)\u001b[39m\n\u001b[32m    112\u001b[39m \u001b[38;5;28mself\u001b[39m.file_path = os.path.join(file_path, \u001b[38;5;28mself\u001b[39m.filename)\n\u001b[32m    114\u001b[39m \u001b[38;5;28;01mif\u001b[39;00m download:\n\u001b[32m--> \u001b[39m\u001b[32m115\u001b[39m     \u001b[38;5;28;43mself\u001b[39;49m\u001b[43m.\u001b[49m\u001b[43mdownload\u001b[49m\u001b[43m(\u001b[49m\u001b[43m)\u001b[49m\n\u001b[32m    117\u001b[39m \u001b[38;5;66;03m# test filepath\u001b[39;00m\n\u001b[32m    118\u001b[39m \u001b[38;5;28;01massert\u001b[39;00m os.path.exists(\u001b[38;5;28mself\u001b[39m.file_path)\n",
      "\u001b[36mFile \u001b[39m\u001b[32m~/efficient-rsnn-bmi/venvs/efficient-rsnn-bmi/lib/python3.12/site-packages/neurobench/datasets/primate_reaching.py:192\u001b[39m, in \u001b[36mPrimateReaching.download\u001b[39m\u001b[34m(self)\u001b[39m\n\u001b[32m    190\u001b[39m \u001b[38;5;28;01mdef\u001b[39;00m\u001b[38;5;250m \u001b[39m\u001b[34mdownload\u001b[39m(\u001b[38;5;28mself\u001b[39m):\n\u001b[32m    191\u001b[39m \u001b[38;5;250m    \u001b[39m\u001b[33;03m\"\"\"Download the Primate Reaching data if it doesn't exist already.\"\"\"\u001b[39;00m\n\u001b[32m--> \u001b[39m\u001b[32m192\u001b[39m     md5 = \u001b[38;5;28;43mself\u001b[39;49m\u001b[43m.\u001b[49m\u001b[43mmd5s\u001b[49m\u001b[43m[\u001b[49m\u001b[38;5;28;43mself\u001b[39;49m\u001b[43m.\u001b[49m\u001b[43mfilename\u001b[49m\u001b[43m]\u001b[49m\n\u001b[32m    194\u001b[39m     \u001b[38;5;28;01mif\u001b[39;00m \u001b[38;5;28mself\u001b[39m._check_exists(\u001b[38;5;28mself\u001b[39m.file_path, md5):\n\u001b[32m    195\u001b[39m         \u001b[38;5;28;01mreturn\u001b[39;00m\n",
      "\u001b[31mKeyError\u001b[39m: 'indy_20160407_02.mat'"
     ]
    }
   ],
   "source": [
    "dataset = PrimateReaching(\n",
    "    file_path='../data/datasets',\n",
    "    filename='indy_20160407_02.mat',\n",
    "    num_steps=1,\n",
    "    download=True,\n",
    "    train_ratio=0.5,\n",
    "    remove_segments_inactive=True\n",
    ")"
   ]
  },
  {
   "cell_type": "code",
   "execution_count": 15,
   "id": "adedbe30",
   "metadata": {},
   "outputs": [
    {
     "data": {
      "text/plain": [
       "array([0, 1, 2, 3, 4])"
      ]
     },
     "execution_count": 15,
     "metadata": {},
     "output_type": "execute_result"
    }
   ],
   "source": [
    "import numpy as np\n",
    "\n",
    "np.arange(0, 5)"
   ]
  },
  {
   "cell_type": "code",
   "execution_count": 3,
   "id": "71525fde",
   "metadata": {},
   "outputs": [
    {
     "name": "stdout",
     "output_type": "stream",
     "text": [
      "Loading indy_20170131_02.mat\n"
     ]
    }
   ],
   "source": [
    "test_dataset = PrimateReaching(\n",
    "    file_path='../data/datasets',\n",
    "    filename='indy_20170131_02.mat',\n",
    "    num_steps=1,\n",
    "    download=True,\n",
    "    train_ratio=0.5,\n",
    "    remove_segments_inactive=False\n",
    ")"
   ]
  },
  {
   "cell_type": "code",
   "execution_count": 4,
   "id": "5e14bac6",
   "metadata": {},
   "outputs": [
    {
     "data": {
      "text/plain": [
       "96"
      ]
     },
     "execution_count": 4,
     "metadata": {},
     "output_type": "execute_result"
    }
   ],
   "source": [
    "len(test_dataset[0][0][0])"
   ]
  },
  {
   "cell_type": "code",
   "execution_count": null,
   "id": "dd8249bf",
   "metadata": {},
   "outputs": [
    {
     "data": {
      "text/plain": [
       "torch.Size([96])"
      ]
     },
     "execution_count": 9,
     "metadata": {},
     "output_type": "execute_result"
    }
   ],
   "source": []
  },
  {
   "cell_type": "code",
   "execution_count": null,
   "id": "f2663ebf",
   "metadata": {},
   "outputs": [],
   "source": [
    "dataset"
   ]
  },
  {
   "cell_type": "code",
   "execution_count": 4,
   "id": "a627b6c8",
   "metadata": {},
   "outputs": [
    {
     "data": {
      "text/plain": [
       "203995"
      ]
     },
     "execution_count": 4,
     "metadata": {},
     "output_type": "execute_result"
    }
   ],
   "source": [
    "len(dataset)"
   ]
  },
  {
   "cell_type": "code",
   "execution_count": 6,
   "id": "de026b77",
   "metadata": {},
   "outputs": [
    {
     "data": {
      "text/plain": [
       "96"
      ]
     },
     "execution_count": 6,
     "metadata": {},
     "output_type": "execute_result"
    }
   ],
   "source": [
    "len(dataset[0][0][0])"
   ]
  },
  {
   "cell_type": "code",
   "execution_count": 7,
   "id": "aebe6b33",
   "metadata": {},
   "outputs": [
    {
     "data": {
      "text/plain": [
       "(tensor([[0., 2., 0., 0., 0., 0., 4., 0., 0., 0., 0., 0., 0., 0., 0., 0., 0., 0.,\n",
       "          0., 1., 0., 0., 0., 0., 0., 0., 0., 0., 0., 0., 0., 0., 0., 0., 0., 0.,\n",
       "          0., 0., 0., 0., 0., 0., 0., 0., 0., 0., 0., 0., 0., 1., 0., 1., 2., 0.,\n",
       "          2., 0., 0., 0., 0., 0., 1., 0., 0., 0., 0., 0., 1., 0., 0., 1., 0., 0.,\n",
       "          1., 1., 0., 1., 0., 0., 0., 0., 0., 0., 0., 1., 0., 0., 0., 0., 0., 0.,\n",
       "          0., 0., 0., 1., 0., 0.]]),\n",
       " tensor([-0.1457, -0.1481]))"
      ]
     },
     "execution_count": 7,
     "metadata": {},
     "output_type": "execute_result"
    }
   ],
   "source": [
    "dataset[0]"
   ]
  },
  {
   "cell_type": "code",
   "execution_count": 8,
   "id": "5f69634d",
   "metadata": {},
   "outputs": [],
   "source": [
    "dataset.split_data()"
   ]
  },
  {
   "cell_type": "code",
   "execution_count": 9,
   "id": "53ee9788",
   "metadata": {},
   "outputs": [
    {
     "data": {
      "text/plain": [
       "407990"
      ]
     },
     "execution_count": 9,
     "metadata": {},
     "output_type": "execute_result"
    }
   ],
   "source": [
    "len(dataset)"
   ]
  },
  {
   "cell_type": "code",
   "execution_count": 10,
   "id": "45583606",
   "metadata": {},
   "outputs": [
    {
     "data": {
      "text/plain": [
       "200868"
      ]
     },
     "execution_count": 10,
     "metadata": {},
     "output_type": "execute_result"
    }
   ],
   "source": [
    "len(dataset.ind_train)"
   ]
  },
  {
   "cell_type": "code",
   "execution_count": 11,
   "id": "4e7e4d97",
   "metadata": {},
   "outputs": [
    {
     "data": {
      "text/plain": [
       "104232"
      ]
     },
     "execution_count": 11,
     "metadata": {},
     "output_type": "execute_result"
    }
   ],
   "source": [
    "len(dataset.ind_test)"
   ]
  },
  {
   "cell_type": "code",
   "execution_count": 12,
   "id": "6fb657ab",
   "metadata": {},
   "outputs": [
    {
     "data": {
      "text/plain": [
       "(tensor([[0., 2., 0., 0., 0., 0., 4., 0., 0., 0., 0., 0., 0., 0., 0., 0., 0., 0.,\n",
       "          0., 1., 0., 0., 0., 0., 0., 0., 0., 0., 0., 0., 0., 0., 0., 0., 0., 0.,\n",
       "          0., 0., 0., 0., 0., 0., 0., 0., 0., 0., 0., 0., 0., 1., 0., 1., 2., 0.,\n",
       "          2., 0., 0., 0., 0., 0., 1., 0., 0., 0., 0., 0., 1., 0., 0., 1., 0., 0.,\n",
       "          1., 1., 0., 1., 0., 0., 0., 0., 0., 0., 0., 1., 0., 0., 0., 0., 0., 0.,\n",
       "          0., 0., 0., 1., 0., 0.]]),\n",
       " tensor([-0.1457, -0.1481]))"
      ]
     },
     "execution_count": 12,
     "metadata": {},
     "output_type": "execute_result"
    }
   ],
   "source": [
    "dataset[0]"
   ]
  },
  {
   "cell_type": "code",
   "execution_count": 13,
   "id": "e1bed62c",
   "metadata": {},
   "outputs": [
    {
     "data": {
      "text/plain": [
       "303758"
      ]
     },
     "execution_count": 13,
     "metadata": {},
     "output_type": "execute_result"
    }
   ],
   "source": [
    "ind_train_val = dataset.ind_train + dataset.ind_val\n",
    "len(ind_train_val)"
   ]
  },
  {
   "cell_type": "code",
   "execution_count": 14,
   "id": "9b2fbbd1",
   "metadata": {},
   "outputs": [
    {
     "data": {
      "text/plain": [
       "0.3333333333333333"
      ]
     },
     "execution_count": 14,
     "metadata": {},
     "output_type": "execute_result"
    }
   ],
   "source": [
    "import math\n",
    "\n",
    "eff_ratio_val = 0.25 / (math.ceil(len(ind_train_val) / len(dataset)*100) / 100)\n",
    "eff_ratio_val"
   ]
  },
  {
   "cell_type": "code",
   "execution_count": 15,
   "id": "698e514e",
   "metadata": {},
   "outputs": [
    {
     "data": {
      "text/plain": [
       "135997"
      ]
     },
     "execution_count": 15,
     "metadata": {},
     "output_type": "execute_result"
    }
   ],
   "source": [
    "import numpy as np\n",
    "\n",
    "n_val = int(np.round(len(dataset) * eff_ratio_val))\n",
    "n_val"
   ]
  },
  {
   "cell_type": "code",
   "execution_count": 16,
   "id": "8f3bb321",
   "metadata": {},
   "outputs": [
    {
     "data": {
      "text/plain": [
       "5"
      ]
     },
     "execution_count": 16,
     "metadata": {},
     "output_type": "execute_result"
    }
   ],
   "source": [
    "array = [1, 2, 3, 4, 5, 6, 7, 8, 9, 10, 11, 12, 13, 14, 15, 16, 17, 18, 19, 20]\n",
    "start_idx = np.random.choice(a=array[:-3], size=1)[0]\n",
    "start_idx"
   ]
  },
  {
   "cell_type": "code",
   "execution_count": 17,
   "id": "a9c610f2",
   "metadata": {},
   "outputs": [
    {
     "data": {
      "text/plain": [
       "[0,\n",
       " 1,\n",
       " 2,\n",
       " 3,\n",
       " 4,\n",
       " 5,\n",
       " 6,\n",
       " 7,\n",
       " 8,\n",
       " 9,\n",
       " 10,\n",
       " 11,\n",
       " 12,\n",
       " 13,\n",
       " 14,\n",
       " 15,\n",
       " 16,\n",
       " 17,\n",
       " 18,\n",
       " 19,\n",
       " 20,\n",
       " 21,\n",
       " 22,\n",
       " 23,\n",
       " 24,\n",
       " 25,\n",
       " 26,\n",
       " 27,\n",
       " 28,\n",
       " 29,\n",
       " 30,\n",
       " 31,\n",
       " 32,\n",
       " 33,\n",
       " 34,\n",
       " 35,\n",
       " 36,\n",
       " 37,\n",
       " 38,\n",
       " 39,\n",
       " 40,\n",
       " 41,\n",
       " 42,\n",
       " 43,\n",
       " 44,\n",
       " 45,\n",
       " 46,\n",
       " 47,\n",
       " 48,\n",
       " 49,\n",
       " 50,\n",
       " 51,\n",
       " 52,\n",
       " 53,\n",
       " 54,\n",
       " 55,\n",
       " 56,\n",
       " 57,\n",
       " 58,\n",
       " 59,\n",
       " 60,\n",
       " 61,\n",
       " 62,\n",
       " 63,\n",
       " 64,\n",
       " 65,\n",
       " 66,\n",
       " 67,\n",
       " 68,\n",
       " 69,\n",
       " 70,\n",
       " 71,\n",
       " 72,\n",
       " 73,\n",
       " 74,\n",
       " 75,\n",
       " 76,\n",
       " 77,\n",
       " 78,\n",
       " 79,\n",
       " 80,\n",
       " 81,\n",
       " 82,\n",
       " 83,\n",
       " 84,\n",
       " 85,\n",
       " 86,\n",
       " 87,\n",
       " 88,\n",
       " 89,\n",
       " 90,\n",
       " 91,\n",
       " 92,\n",
       " 93,\n",
       " 94,\n",
       " 95,\n",
       " 96,\n",
       " 97,\n",
       " 98,\n",
       " 99,\n",
       " 100,\n",
       " 101,\n",
       " 102,\n",
       " 103,\n",
       " 104,\n",
       " 105,\n",
       " 106,\n",
       " 107,\n",
       " 108,\n",
       " 109,\n",
       " 110,\n",
       " 111,\n",
       " 112,\n",
       " 113,\n",
       " 114,\n",
       " 115,\n",
       " 116,\n",
       " 117,\n",
       " 118,\n",
       " 119,\n",
       " 120,\n",
       " 121,\n",
       " 122,\n",
       " 123,\n",
       " 124,\n",
       " 125,\n",
       " 126,\n",
       " 127,\n",
       " 128,\n",
       " 129,\n",
       " 130,\n",
       " 131,\n",
       " 132,\n",
       " 133,\n",
       " 134,\n",
       " 135,\n",
       " 136,\n",
       " 137,\n",
       " 138,\n",
       " 139,\n",
       " 140,\n",
       " 141,\n",
       " 142,\n",
       " 143,\n",
       " 144,\n",
       " 145,\n",
       " 146,\n",
       " 147,\n",
       " 148,\n",
       " 149,\n",
       " 150,\n",
       " 151,\n",
       " 152,\n",
       " 153,\n",
       " 154,\n",
       " 155,\n",
       " 156,\n",
       " 157,\n",
       " 158,\n",
       " 159,\n",
       " 160,\n",
       " 161,\n",
       " 162,\n",
       " 163,\n",
       " 164,\n",
       " 165,\n",
       " 166,\n",
       " 167,\n",
       " 168,\n",
       " 169,\n",
       " 170,\n",
       " 171,\n",
       " 172,\n",
       " 173,\n",
       " 174,\n",
       " 175,\n",
       " 176,\n",
       " 177,\n",
       " 178,\n",
       " 179,\n",
       " 180,\n",
       " 181,\n",
       " 182,\n",
       " 183,\n",
       " 184,\n",
       " 185,\n",
       " 186,\n",
       " 187,\n",
       " 188,\n",
       " 189,\n",
       " 190,\n",
       " 191,\n",
       " 192,\n",
       " 193,\n",
       " 194,\n",
       " 195,\n",
       " 196,\n",
       " 197,\n",
       " 198,\n",
       " 199,\n",
       " 200,\n",
       " 201,\n",
       " 202,\n",
       " 203,\n",
       " 204,\n",
       " 205,\n",
       " 206,\n",
       " 207,\n",
       " 208,\n",
       " 209,\n",
       " 210,\n",
       " 211,\n",
       " 212,\n",
       " 213,\n",
       " 214,\n",
       " 215,\n",
       " 216,\n",
       " 217,\n",
       " 218,\n",
       " 219,\n",
       " 220,\n",
       " 221,\n",
       " 222,\n",
       " 223,\n",
       " 224,\n",
       " 225,\n",
       " 226,\n",
       " 227,\n",
       " 228,\n",
       " 229,\n",
       " 230,\n",
       " 231,\n",
       " 232,\n",
       " 233,\n",
       " 234,\n",
       " 235,\n",
       " 236,\n",
       " 237,\n",
       " 238,\n",
       " 239,\n",
       " 240,\n",
       " 241,\n",
       " 242,\n",
       " 243,\n",
       " 244,\n",
       " 245,\n",
       " 246,\n",
       " 247,\n",
       " 248,\n",
       " 249,\n",
       " 250,\n",
       " 251,\n",
       " 252,\n",
       " 253,\n",
       " 254,\n",
       " 255,\n",
       " 256,\n",
       " 257,\n",
       " 258,\n",
       " 259,\n",
       " 260,\n",
       " 261,\n",
       " 262,\n",
       " 263,\n",
       " 264,\n",
       " 265,\n",
       " 266,\n",
       " 267,\n",
       " 268,\n",
       " 269,\n",
       " 270,\n",
       " 271,\n",
       " 272,\n",
       " 273,\n",
       " 274,\n",
       " 275,\n",
       " 276,\n",
       " 277,\n",
       " 278,\n",
       " 279,\n",
       " 280,\n",
       " 281,\n",
       " 282,\n",
       " 283,\n",
       " 284,\n",
       " 285,\n",
       " 286,\n",
       " 287,\n",
       " 288,\n",
       " 289,\n",
       " 290,\n",
       " 291,\n",
       " 292,\n",
       " 293,\n",
       " 294,\n",
       " 295,\n",
       " 296,\n",
       " 297,\n",
       " 298,\n",
       " 299,\n",
       " 300,\n",
       " 301,\n",
       " 302,\n",
       " 303,\n",
       " 304,\n",
       " 305,\n",
       " 306,\n",
       " 307,\n",
       " 308,\n",
       " 309,\n",
       " 310,\n",
       " 311,\n",
       " 312,\n",
       " 313,\n",
       " 314,\n",
       " 315,\n",
       " 316,\n",
       " 317,\n",
       " 318,\n",
       " 319,\n",
       " 320,\n",
       " 321,\n",
       " 322,\n",
       " 323,\n",
       " 324,\n",
       " 325,\n",
       " 326,\n",
       " 327,\n",
       " 328,\n",
       " 329,\n",
       " 330,\n",
       " 331,\n",
       " 332,\n",
       " 333,\n",
       " 334,\n",
       " 335,\n",
       " 336,\n",
       " 337,\n",
       " 338,\n",
       " 339,\n",
       " 340,\n",
       " 341,\n",
       " 342,\n",
       " 343,\n",
       " 344,\n",
       " 345,\n",
       " 346,\n",
       " 347,\n",
       " 348,\n",
       " 349,\n",
       " 350,\n",
       " 351,\n",
       " 352,\n",
       " 353,\n",
       " 354,\n",
       " 355,\n",
       " 356,\n",
       " 357,\n",
       " 358,\n",
       " 359,\n",
       " 360,\n",
       " 361,\n",
       " 362,\n",
       " 363,\n",
       " 364,\n",
       " 365,\n",
       " 366,\n",
       " 367,\n",
       " 368,\n",
       " 369,\n",
       " 370,\n",
       " 371,\n",
       " 372,\n",
       " 373,\n",
       " 374,\n",
       " 375,\n",
       " 376,\n",
       " 377,\n",
       " 378,\n",
       " 379,\n",
       " 380,\n",
       " 381,\n",
       " 382,\n",
       " 383,\n",
       " 384,\n",
       " 385,\n",
       " 386,\n",
       " 387,\n",
       " 388,\n",
       " 389,\n",
       " 390,\n",
       " 391,\n",
       " 392,\n",
       " 393,\n",
       " 394,\n",
       " 395,\n",
       " 396,\n",
       " 397,\n",
       " 398,\n",
       " 399,\n",
       " 400,\n",
       " 401,\n",
       " 402,\n",
       " 403,\n",
       " 404,\n",
       " 405,\n",
       " 406,\n",
       " 407,\n",
       " 408,\n",
       " 409,\n",
       " 410,\n",
       " 411,\n",
       " 412,\n",
       " 413,\n",
       " 414,\n",
       " 415,\n",
       " 416,\n",
       " 417,\n",
       " 418,\n",
       " 419,\n",
       " 420,\n",
       " 421,\n",
       " 422,\n",
       " 423,\n",
       " 424,\n",
       " 425,\n",
       " 426,\n",
       " 427,\n",
       " 428,\n",
       " 429,\n",
       " 430,\n",
       " 431,\n",
       " 432,\n",
       " 433,\n",
       " 434,\n",
       " 435,\n",
       " 436,\n",
       " 437,\n",
       " 438,\n",
       " 439,\n",
       " 440,\n",
       " 441,\n",
       " 442,\n",
       " 443,\n",
       " 444,\n",
       " 445,\n",
       " 446,\n",
       " 447,\n",
       " 448,\n",
       " 449,\n",
       " 450,\n",
       " 451,\n",
       " 452,\n",
       " 453,\n",
       " 454,\n",
       " 455,\n",
       " 456,\n",
       " 457,\n",
       " 458,\n",
       " 459,\n",
       " 460,\n",
       " 461,\n",
       " 462,\n",
       " 463,\n",
       " 464,\n",
       " 465,\n",
       " 466,\n",
       " 467,\n",
       " 468,\n",
       " 469,\n",
       " 470,\n",
       " 471,\n",
       " 472,\n",
       " 473,\n",
       " 474,\n",
       " 475,\n",
       " 476,\n",
       " 477,\n",
       " 478,\n",
       " 479,\n",
       " 480,\n",
       " 481,\n",
       " 482,\n",
       " 483,\n",
       " 484,\n",
       " 485,\n",
       " 486,\n",
       " 487,\n",
       " 488,\n",
       " 489,\n",
       " 490,\n",
       " 491,\n",
       " 492,\n",
       " 493,\n",
       " 494,\n",
       " 495,\n",
       " 496,\n",
       " 497,\n",
       " 498,\n",
       " 499,\n",
       " 500,\n",
       " 501,\n",
       " 502,\n",
       " 503,\n",
       " 504,\n",
       " 505,\n",
       " 506,\n",
       " 507,\n",
       " 508,\n",
       " 509,\n",
       " 510,\n",
       " 511,\n",
       " 512,\n",
       " 513,\n",
       " 514,\n",
       " 515,\n",
       " 516,\n",
       " 517,\n",
       " 518,\n",
       " 519,\n",
       " 520,\n",
       " 521,\n",
       " 522,\n",
       " 523,\n",
       " 524,\n",
       " 525,\n",
       " 526,\n",
       " 527,\n",
       " 528,\n",
       " 529,\n",
       " 530,\n",
       " 531,\n",
       " 532,\n",
       " 533,\n",
       " 534,\n",
       " 535,\n",
       " 536,\n",
       " 537,\n",
       " 538,\n",
       " 539,\n",
       " 540,\n",
       " 541,\n",
       " 542,\n",
       " 543,\n",
       " 544,\n",
       " 545,\n",
       " 546,\n",
       " 547,\n",
       " 548,\n",
       " 549,\n",
       " 550,\n",
       " 551,\n",
       " 552,\n",
       " 553,\n",
       " 554,\n",
       " 555,\n",
       " 556,\n",
       " 557,\n",
       " 558,\n",
       " 559,\n",
       " 560,\n",
       " 561,\n",
       " 562,\n",
       " 563,\n",
       " 564,\n",
       " 565,\n",
       " 566,\n",
       " 567,\n",
       " 568,\n",
       " 569,\n",
       " 570,\n",
       " 571,\n",
       " 572,\n",
       " 573,\n",
       " 574,\n",
       " 575,\n",
       " 576,\n",
       " 577,\n",
       " 578,\n",
       " 579,\n",
       " 580,\n",
       " 581,\n",
       " 582,\n",
       " 583,\n",
       " 584,\n",
       " 585,\n",
       " 586,\n",
       " 587,\n",
       " 588,\n",
       " 589,\n",
       " 590,\n",
       " 591,\n",
       " 592,\n",
       " 593,\n",
       " 594,\n",
       " 595,\n",
       " 596,\n",
       " 597,\n",
       " 598,\n",
       " 599,\n",
       " 600,\n",
       " 601,\n",
       " 602,\n",
       " 603,\n",
       " 604,\n",
       " 605,\n",
       " 606,\n",
       " 607,\n",
       " 608,\n",
       " 609,\n",
       " 610,\n",
       " 611,\n",
       " 612,\n",
       " 613,\n",
       " 614,\n",
       " 615,\n",
       " 616,\n",
       " 617,\n",
       " 618,\n",
       " 619,\n",
       " 620,\n",
       " 621,\n",
       " 622,\n",
       " 623,\n",
       " 624,\n",
       " 625,\n",
       " 626,\n",
       " 627,\n",
       " 628,\n",
       " 629,\n",
       " 630,\n",
       " 631,\n",
       " 632,\n",
       " 633,\n",
       " 634,\n",
       " 635,\n",
       " 636,\n",
       " 637,\n",
       " 638,\n",
       " 639,\n",
       " 640,\n",
       " 641,\n",
       " 642,\n",
       " 643,\n",
       " 644,\n",
       " 645,\n",
       " 646,\n",
       " 647,\n",
       " 648,\n",
       " 649,\n",
       " 650,\n",
       " 651,\n",
       " 652,\n",
       " 653,\n",
       " 654,\n",
       " 655,\n",
       " 656,\n",
       " 657,\n",
       " 658,\n",
       " 659,\n",
       " 660,\n",
       " 661,\n",
       " 662,\n",
       " 663,\n",
       " 664,\n",
       " 665,\n",
       " 666,\n",
       " 667,\n",
       " 668,\n",
       " 669,\n",
       " 670,\n",
       " 671,\n",
       " 672,\n",
       " 673,\n",
       " 674,\n",
       " 675,\n",
       " 676,\n",
       " 677,\n",
       " 678,\n",
       " 679,\n",
       " 680,\n",
       " 681,\n",
       " 682,\n",
       " 683,\n",
       " 684,\n",
       " 685,\n",
       " 686,\n",
       " 687,\n",
       " 688,\n",
       " 689,\n",
       " 690,\n",
       " 691,\n",
       " 692,\n",
       " 693,\n",
       " 694,\n",
       " 695,\n",
       " 696,\n",
       " 697,\n",
       " 698,\n",
       " 699,\n",
       " 700,\n",
       " 701,\n",
       " 702,\n",
       " 703,\n",
       " 704,\n",
       " 705,\n",
       " 706,\n",
       " 707,\n",
       " 708,\n",
       " 709,\n",
       " 710,\n",
       " 711,\n",
       " 712,\n",
       " 713,\n",
       " 714,\n",
       " 715,\n",
       " 716,\n",
       " 717,\n",
       " 718,\n",
       " 719,\n",
       " 720,\n",
       " 721,\n",
       " 722,\n",
       " 723,\n",
       " 724,\n",
       " 725,\n",
       " 726,\n",
       " 727,\n",
       " 728,\n",
       " 729,\n",
       " 730,\n",
       " 731,\n",
       " 732,\n",
       " 733,\n",
       " 734,\n",
       " 735,\n",
       " 736,\n",
       " 737,\n",
       " 738,\n",
       " 739,\n",
       " 740,\n",
       " 741,\n",
       " 742,\n",
       " 743,\n",
       " 744,\n",
       " 745,\n",
       " 746,\n",
       " 747,\n",
       " 748,\n",
       " 749,\n",
       " 750,\n",
       " 751,\n",
       " 752,\n",
       " 753,\n",
       " 754,\n",
       " 755,\n",
       " 756,\n",
       " 757,\n",
       " 758,\n",
       " 759,\n",
       " 760,\n",
       " 761,\n",
       " 762,\n",
       " 763,\n",
       " 764,\n",
       " 765,\n",
       " 766,\n",
       " 767,\n",
       " 768,\n",
       " 769,\n",
       " 770,\n",
       " 771,\n",
       " 772,\n",
       " 773,\n",
       " 774,\n",
       " 775,\n",
       " 776,\n",
       " 777,\n",
       " 778,\n",
       " 779,\n",
       " 780,\n",
       " 781,\n",
       " 782,\n",
       " 783,\n",
       " 784,\n",
       " 785,\n",
       " 786,\n",
       " 787,\n",
       " 788,\n",
       " 789,\n",
       " 790,\n",
       " 791,\n",
       " 792,\n",
       " 793,\n",
       " 794,\n",
       " 795,\n",
       " 796,\n",
       " 797,\n",
       " 798,\n",
       " 799,\n",
       " 800,\n",
       " 801,\n",
       " 802,\n",
       " 803,\n",
       " 804,\n",
       " 805,\n",
       " 806,\n",
       " 807,\n",
       " 808,\n",
       " 809,\n",
       " 810,\n",
       " 811,\n",
       " 812,\n",
       " 813,\n",
       " 814,\n",
       " 815,\n",
       " 816,\n",
       " 817,\n",
       " 818,\n",
       " 819,\n",
       " 820,\n",
       " 821,\n",
       " 822,\n",
       " 823,\n",
       " 824,\n",
       " 825,\n",
       " 826,\n",
       " 827,\n",
       " 828,\n",
       " 829,\n",
       " 830,\n",
       " 831,\n",
       " 832,\n",
       " 833,\n",
       " 834,\n",
       " 835,\n",
       " 836,\n",
       " 837,\n",
       " 838,\n",
       " 839,\n",
       " 840,\n",
       " 841,\n",
       " 842,\n",
       " 843,\n",
       " 844,\n",
       " 845,\n",
       " 846,\n",
       " 847,\n",
       " 848,\n",
       " 849,\n",
       " 850,\n",
       " 851,\n",
       " 852,\n",
       " 853,\n",
       " 854,\n",
       " 855,\n",
       " 856,\n",
       " 857,\n",
       " 858,\n",
       " 859,\n",
       " 860,\n",
       " 861,\n",
       " 862,\n",
       " 863,\n",
       " 864,\n",
       " 865,\n",
       " 866,\n",
       " 867,\n",
       " 868,\n",
       " 869,\n",
       " 870,\n",
       " 871,\n",
       " 872,\n",
       " 873,\n",
       " 874,\n",
       " 875,\n",
       " 876,\n",
       " 877,\n",
       " 878,\n",
       " 879,\n",
       " 880,\n",
       " 881,\n",
       " 882,\n",
       " 883,\n",
       " 884,\n",
       " 885,\n",
       " 886,\n",
       " 887,\n",
       " 888,\n",
       " 889,\n",
       " 890,\n",
       " 891,\n",
       " 892,\n",
       " 893,\n",
       " 894,\n",
       " 895,\n",
       " 896,\n",
       " 897,\n",
       " 898,\n",
       " 899,\n",
       " 900,\n",
       " 901,\n",
       " 902,\n",
       " 903,\n",
       " 904,\n",
       " 905,\n",
       " 906,\n",
       " 907,\n",
       " 908,\n",
       " 909,\n",
       " 910,\n",
       " 911,\n",
       " 912,\n",
       " 913,\n",
       " 914,\n",
       " 915,\n",
       " 916,\n",
       " 917,\n",
       " 918,\n",
       " 919,\n",
       " 920,\n",
       " 921,\n",
       " 922,\n",
       " 923,\n",
       " 924,\n",
       " 925,\n",
       " 926,\n",
       " 927,\n",
       " 928,\n",
       " 929,\n",
       " 930,\n",
       " 931,\n",
       " 932,\n",
       " 933,\n",
       " 934,\n",
       " 935,\n",
       " 936,\n",
       " 937,\n",
       " 938,\n",
       " 939,\n",
       " 940,\n",
       " 941,\n",
       " 942,\n",
       " 943,\n",
       " 944,\n",
       " 945,\n",
       " 946,\n",
       " 947,\n",
       " 948,\n",
       " 949,\n",
       " 950,\n",
       " 951,\n",
       " 952,\n",
       " 953,\n",
       " 954,\n",
       " 955,\n",
       " 956,\n",
       " 957,\n",
       " 958,\n",
       " 959,\n",
       " 960,\n",
       " 961,\n",
       " 962,\n",
       " 963,\n",
       " 964,\n",
       " 965,\n",
       " 966,\n",
       " 967,\n",
       " 968,\n",
       " 969,\n",
       " 970,\n",
       " 971,\n",
       " 972,\n",
       " 973,\n",
       " 974,\n",
       " 975,\n",
       " 976,\n",
       " 977,\n",
       " 978,\n",
       " 979,\n",
       " 980,\n",
       " 981,\n",
       " 982,\n",
       " 983,\n",
       " 984,\n",
       " 985,\n",
       " 986,\n",
       " 987,\n",
       " 988,\n",
       " 989,\n",
       " 990,\n",
       " 991,\n",
       " 992,\n",
       " 993,\n",
       " 994,\n",
       " 995,\n",
       " 996,\n",
       " 997,\n",
       " 998,\n",
       " 999,\n",
       " ...]"
      ]
     },
     "execution_count": 17,
     "metadata": {},
     "output_type": "execute_result"
    }
   ],
   "source": [
    "ind_train_val[:-n_val]"
   ]
  },
  {
   "cell_type": "code",
   "execution_count": 18,
   "id": "7022d8ba",
   "metadata": {},
   "outputs": [
    {
     "data": {
      "text/plain": [
       "19849"
      ]
     },
     "execution_count": 18,
     "metadata": {},
     "output_type": "execute_result"
    }
   ],
   "source": [
    "start_idx = np.random.choice(a=ind_train_val[:-n_val], size=1)[0]\n",
    "start_idx"
   ]
  },
  {
   "cell_type": "code",
   "execution_count": 19,
   "id": "9bd4728a",
   "metadata": {},
   "outputs": [
    {
     "data": {
      "text/plain": [
       "array([19849, 19850, 19851, ..., 55409, 55410, 55411])"
      ]
     },
     "execution_count": 19,
     "metadata": {},
     "output_type": "execute_result"
    }
   ],
   "source": [
    "ind_val = np.array(ind_train_val[start_idx:start_idx + n_val])\n",
    "ind_val"
   ]
  },
  {
   "cell_type": "code",
   "execution_count": 20,
   "id": "5ae75753",
   "metadata": {},
   "outputs": [
    {
     "data": {
      "text/plain": [
       "array([100434, 100435, 100436, ..., 151876, 151877, 151878])"
      ]
     },
     "execution_count": 20,
     "metadata": {},
     "output_type": "execute_result"
    }
   ],
   "source": [
    "\n",
    "ind_train = np.array(sorted(set(ind_train_val) - set(ind_val)))\n",
    "ind_train"
   ]
  },
  {
   "cell_type": "code",
   "execution_count": 21,
   "id": "5d9e05c4",
   "metadata": {},
   "outputs": [
    {
     "data": {
      "text/plain": [
       "array([], dtype=int64)"
      ]
     },
     "execution_count": 21,
     "metadata": {},
     "output_type": "execute_result"
    }
   ],
   "source": [
    "similar_train_val = np.intersect1d(ind_val, ind_train)\n",
    "similar_train_val"
   ]
  },
  {
   "cell_type": "code",
   "execution_count": 22,
   "id": "fd5eefc2",
   "metadata": {},
   "outputs": [
    {
     "data": {
      "text/plain": [
       "array([], dtype=int64)"
      ]
     },
     "execution_count": 22,
     "metadata": {},
     "output_type": "execute_result"
    }
   ],
   "source": [
    "similar_train_test = np.intersect1d(ind_train_val, test_dataset.ind_test)\n",
    "similar_train_test"
   ]
  },
  {
   "cell_type": "code",
   "execution_count": 23,
   "id": "561b54ac",
   "metadata": {},
   "outputs": [
    {
     "data": {
      "text/plain": [
       "102890"
      ]
     },
     "execution_count": 23,
     "metadata": {},
     "output_type": "execute_result"
    }
   ],
   "source": [
    "len(dataset.ind_val)"
   ]
  },
  {
   "cell_type": "code",
   "execution_count": 24,
   "id": "669e51cc",
   "metadata": {},
   "outputs": [
    {
     "data": {
      "text/plain": [
       "tensor([[-0.1457, -0.1481],\n",
       "        [-0.1421, -0.1479],\n",
       "        [-0.1347, -0.1474],\n",
       "        ...,\n",
       "        [-0.1401,  0.1501],\n",
       "        [-0.1251,  0.1346],\n",
       "        [-0.1168,  0.1259]])"
      ]
     },
     "execution_count": 24,
     "metadata": {},
     "output_type": "execute_result"
    }
   ],
   "source": [
    "dataset.labels.T"
   ]
  },
  {
   "cell_type": "code",
   "execution_count": 25,
   "id": "a37bf7ae",
   "metadata": {},
   "outputs": [],
   "source": [
    "spikes_train = dataset.samples.T[ind_train]"
   ]
  },
  {
   "cell_type": "code",
   "execution_count": 26,
   "id": "c7504ae5",
   "metadata": {},
   "outputs": [
    {
     "data": {
      "text/plain": [
       "tensor([[0., 0., 0.,  ..., 0., 0., 0.],\n",
       "        [0., 0., 0.,  ..., 0., 0., 0.],\n",
       "        [0., 0., 0.,  ..., 0., 0., 0.],\n",
       "        ...,\n",
       "        [0., 0., 0.,  ..., 0., 0., 0.],\n",
       "        [0., 0., 0.,  ..., 0., 0., 0.],\n",
       "        [0., 0., 0.,  ..., 0., 0., 0.]])"
      ]
     },
     "execution_count": 26,
     "metadata": {},
     "output_type": "execute_result"
    }
   ],
   "source": [
    "spikes_train"
   ]
  },
  {
   "cell_type": "code",
   "execution_count": 4,
   "id": "8e2668e7",
   "metadata": {},
   "outputs": [],
   "source": [
    "import logging\n",
    "import sys\n",
    "import colorlog\n",
    "\n",
    "def get_logger(name=None):\n",
    "    logger = colorlog.getLogger(name or \"rsnn\")\n",
    "\n",
    "    if logger.hasHandlers():\n",
    "        logger.handlers.clear()\n",
    "\n",
    "    logger.setLevel(logging.INFO)\n",
    "    handler = colorlog.StreamHandler(stream=sys.stdout)\n",
    "\n",
    "    formatter = colorlog.ColoredFormatter(\n",
    "        '%(asctime_log_color)s[%(asctime)s] '\n",
    "        '%(levelname_log_color)s[%(levelname)s] '\n",
    "        '%(name_log_color)s[%(name)s] '\n",
    "        '%(message_log_color)s- %(message)s',\n",
    "        datefmt='%Y-%m-%d %H:%M:%S',\n",
    "        log_colors={\n",
    "            'DEBUG': 'cyan',\n",
    "            'INFO': 'green',\n",
    "            'WARNING': 'yellow',\n",
    "            'ERROR': 'red',\n",
    "            'CRITICAL': 'red,bg_white',\n",
    "        },\n",
    "        secondary_log_colors={\n",
    "            'asctime': {\n",
    "                'DEBUG': 'white',\n",
    "                'INFO': 'blue',\n",
    "                'WARNING': 'yellow',\n",
    "                'ERROR': 'red',\n",
    "                'CRITICAL': 'red,bg_white',\n",
    "            },\n",
    "            'levelname': {\n",
    "                'DEBUG': 'white',\n",
    "                'INFO': 'yellow',\n",
    "                'WARNING': 'blue',\n",
    "                'ERROR': 'red',\n",
    "                'CRITICAL': 'red,bg_white',\n",
    "            },\n",
    "            'name': {\n",
    "                'DEBUG': 'white',\n",
    "                'INFO': 'green',\n",
    "                'WARNING': 'yellow',\n",
    "                'ERROR': 'red',\n",
    "                'CRITICAL': 'red,bg_white',\n",
    "            },\n",
    "            'message': {\n",
    "                'DEBUG': 'green',\n",
    "                'INFO': 'white',\n",
    "                'WARNING': 'yellow',\n",
    "                'ERROR': 'red',\n",
    "                'CRITICAL': 'red,bg_white',\n",
    "            },\n",
    "        },\n",
    "        style='%'\n",
    "    )\n",
    "\n",
    "    handler.setFormatter(formatter)\n",
    "    logger.addHandler(handler)\n",
    "    logger.propagate = False\n",
    "\n",
    "    return logger\n"
   ]
  },
  {
   "cell_type": "code",
   "execution_count": 57,
   "id": "b653639d",
   "metadata": {},
   "outputs": [],
   "source": [
    "logger = get_logger('rsnn')"
   ]
  },
  {
   "cell_type": "code",
   "execution_count": 58,
   "id": "f76d303b",
   "metadata": {},
   "outputs": [
    {
     "name": "stdout",
     "output_type": "stream",
     "text": [
      "\u001b[34m[2025-04-30 10:47:22] \u001b[33m[INFO] \u001b[32m[rsnn] \u001b[37m- This is an info message\u001b[0m\n"
     ]
    }
   ],
   "source": [
    "logger.info('This is an info message')"
   ]
  },
  {
   "cell_type": "code",
   "execution_count": 13,
   "id": "2083b622",
   "metadata": {},
   "outputs": [],
   "source": [
    "import pprint\n",
    "\n",
    "def formatted_cfg_logger(cfg):\n",
    "    \"\"\"\n",
    "    Log the configuration in a formatted way.\n",
    "    \"\"\"\n",
    "    formatted_cfg = pprint.pformat(cfg, indent=2, compact=False, depth=1)\n",
    "    # print(formatted_cfg)\n",
    "    # formatted_cfg = \"{\\n\" + \"\\n\".join(f'{line}' for line in formatted_cfg[1:-1]) + \"\\n}\"\n",
    "\n",
    "    return formatted_cfg"
   ]
  },
  {
   "cell_type": "code",
   "execution_count": 3,
   "id": "acb49161",
   "metadata": {},
   "outputs": [],
   "source": [
    "config = {'filename': 'indy_20170131_02.mat', 'file_path': '/home/cc/efficient-rsnn-bmi/data/datasets', 'train_ratio': 0.8, 'val_ratio': 0.1, 'random_val': False, 'stride': 0.004, 'extend_data': True, 'sample_duration': 2.0, 'remove_segments_inactive': False, 'p_drop': 0.0, 'p_insert': 0.0, 'jitter_sigma': 0.0}"
   ]
  },
  {
   "cell_type": "code",
   "execution_count": 5,
   "id": "16ff225e",
   "metadata": {},
   "outputs": [],
   "source": [
    "logger = get_logger('rsnn')"
   ]
  },
  {
   "cell_type": "code",
   "execution_count": 14,
   "id": "6b116d60",
   "metadata": {},
   "outputs": [
    {
     "name": "stdout",
     "output_type": "stream",
     "text": [
      "\u001b[34m[2025-05-06 09:44:29] \u001b[33m[INFO] \u001b[32m[rsnn] \u001b[37m- { 'extend_data': True,\n",
      "  'file_path': '/home/cc/efficient-rsnn-bmi/data/datasets',\n",
      "  'filename': 'indy_20170131_02.mat',\n",
      "  'jitter_sigma': 0.0,\n",
      "  'p_drop': 0.0,\n",
      "  'p_insert': 0.0,\n",
      "  'random_val': False,\n",
      "  'remove_segments_inactive': False,\n",
      "  'sample_duration': 2.0,\n",
      "  'stride': 0.004,\n",
      "  'train_ratio': 0.8,\n",
      "  'val_ratio': 0.1}\u001b[0m\n"
     ]
    }
   ],
   "source": [
    "formatted_cfg = formatted_cfg_logger(config)\n",
    "logger.info(formatted_cfg)"
   ]
  },
  {
   "cell_type": "code",
   "execution_count": 24,
   "id": "3bcc6bce",
   "metadata": {},
   "outputs": [
    {
     "data": {
      "text/plain": [
       "['{',\n",
       " '',\n",
       " \" 'extend_data': True,\",\n",
       " \"  'file_path': '/home/cc/efficient-rsnn-bmi/data/datasets',\",\n",
       " \"  'filename': 'indy_20170131_02.mat',\",\n",
       " \"  'jitter_sigma': 0.0,\",\n",
       " \"  'p_drop': 0.0,\",\n",
       " \"  'p_insert': 0.0,\",\n",
       " \"  'random_val': False,\",\n",
       " \"  'remove_segments_inactive': False,\",\n",
       " \"  'sample_duration': 2.0,\",\n",
       " \"  'stride': 0.004,\",\n",
       " \"  'train_ratio': 0.8,\",\n",
       " \"  'val_ratio': 0.1\",\n",
       " '',\n",
       " '}']"
      ]
     },
     "execution_count": 24,
     "metadata": {},
     "output_type": "execute_result"
    }
   ],
   "source": [
    "formatted_cfg.splitlines()"
   ]
  },
  {
   "cell_type": "code",
   "execution_count": 3,
   "id": "9954bdf6",
   "metadata": {},
   "outputs": [
    {
     "name": "stdout",
     "output_type": "stream",
     "text": [
      "Name: stork\n",
      "Version: 3.2.1\n",
      "Summary: Update libraries on Databricks\n",
      "Home-page: https://github.com/shoprunner/stork\n",
      "Author: Hanna Torrence\n",
      "Author-email: data-science@shoprunner.com\n",
      "License: BSD-3-Clause\n",
      "Location: /home/cc/efficient-rsnn-bmi/venvs/efficient-rsnn-bmi/lib/python3.12/site-packages\n",
      "Requires: click, click-log, configparser, requests, simplejson\n",
      "Required-by: efficient-rsnn-bmi\n"
     ]
    }
   ],
   "source": [
    "!pip show stork\n"
   ]
  },
  {
   "cell_type": "code",
   "execution_count": 2,
   "id": "bfe7d4b3",
   "metadata": {},
   "outputs": [
    {
     "name": "stdout",
     "output_type": "stream",
     "text": [
      "Collecting seaborn\n",
      "  Downloading seaborn-0.13.2-py3-none-any.whl.metadata (5.4 kB)\n",
      "Requirement already satisfied: numpy!=1.24.0,>=1.20 in /home/cc/efficient-rsnn-bmi/venvs/efficient-rsnn-bmi/lib/python3.12/site-packages (from seaborn) (1.26.4)\n",
      "Collecting pandas>=1.2 (from seaborn)\n",
      "  Downloading pandas-2.2.3-cp312-cp312-manylinux_2_17_x86_64.manylinux2014_x86_64.whl.metadata (89 kB)\n",
      "Collecting matplotlib!=3.6.1,>=3.4 (from seaborn)\n",
      "  Downloading matplotlib-3.10.1-cp312-cp312-manylinux_2_17_x86_64.manylinux2014_x86_64.whl.metadata (11 kB)\n",
      "Collecting contourpy>=1.0.1 (from matplotlib!=3.6.1,>=3.4->seaborn)\n",
      "  Downloading contourpy-1.3.2-cp312-cp312-manylinux_2_17_x86_64.manylinux2014_x86_64.whl.metadata (5.5 kB)\n",
      "Collecting cycler>=0.10 (from matplotlib!=3.6.1,>=3.4->seaborn)\n",
      "  Downloading cycler-0.12.1-py3-none-any.whl.metadata (3.8 kB)\n",
      "Collecting fonttools>=4.22.0 (from matplotlib!=3.6.1,>=3.4->seaborn)\n",
      "  Downloading fonttools-4.57.0-cp312-cp312-manylinux_2_5_x86_64.manylinux1_x86_64.manylinux_2_17_x86_64.manylinux2014_x86_64.whl.metadata (102 kB)\n",
      "Collecting kiwisolver>=1.3.1 (from matplotlib!=3.6.1,>=3.4->seaborn)\n",
      "  Downloading kiwisolver-1.4.8-cp312-cp312-manylinux_2_17_x86_64.manylinux2014_x86_64.whl.metadata (6.2 kB)\n",
      "Requirement already satisfied: packaging>=20.0 in /home/cc/efficient-rsnn-bmi/venvs/efficient-rsnn-bmi/lib/python3.12/site-packages (from matplotlib!=3.6.1,>=3.4->seaborn) (24.2)\n",
      "Collecting pillow>=8 (from matplotlib!=3.6.1,>=3.4->seaborn)\n",
      "  Downloading pillow-11.2.1-cp312-cp312-manylinux_2_28_x86_64.whl.metadata (8.9 kB)\n",
      "Collecting pyparsing>=2.3.1 (from matplotlib!=3.6.1,>=3.4->seaborn)\n",
      "  Downloading pyparsing-3.2.3-py3-none-any.whl.metadata (5.0 kB)\n",
      "Requirement already satisfied: python-dateutil>=2.7 in /home/cc/efficient-rsnn-bmi/venvs/efficient-rsnn-bmi/lib/python3.12/site-packages (from matplotlib!=3.6.1,>=3.4->seaborn) (2.9.0.post0)\n",
      "Collecting pytz>=2020.1 (from pandas>=1.2->seaborn)\n",
      "  Downloading pytz-2025.2-py2.py3-none-any.whl.metadata (22 kB)\n",
      "Collecting tzdata>=2022.7 (from pandas>=1.2->seaborn)\n",
      "  Downloading tzdata-2025.2-py2.py3-none-any.whl.metadata (1.4 kB)\n",
      "Requirement already satisfied: six>=1.5 in /home/cc/efficient-rsnn-bmi/venvs/efficient-rsnn-bmi/lib/python3.12/site-packages (from python-dateutil>=2.7->matplotlib!=3.6.1,>=3.4->seaborn) (1.17.0)\n",
      "Downloading seaborn-0.13.2-py3-none-any.whl (294 kB)\n",
      "Downloading matplotlib-3.10.1-cp312-cp312-manylinux_2_17_x86_64.manylinux2014_x86_64.whl (8.6 MB)\n",
      "\u001b[2K   \u001b[90m━━━━━━━━━━━━━━━━━━━━━━━━━━━━━━━━━━━━━━━━\u001b[0m \u001b[32m8.6/8.6 MB\u001b[0m \u001b[31m61.5 MB/s\u001b[0m eta \u001b[36m0:00:00\u001b[0m\n",
      "\u001b[?25hDownloading contourpy-1.3.2-cp312-cp312-manylinux_2_17_x86_64.manylinux2014_x86_64.whl (323 kB)\n",
      "Downloading cycler-0.12.1-py3-none-any.whl (8.3 kB)\n",
      "Downloading fonttools-4.57.0-cp312-cp312-manylinux_2_5_x86_64.manylinux1_x86_64.manylinux_2_17_x86_64.manylinux2014_x86_64.whl (4.9 MB)\n",
      "\u001b[2K   \u001b[90m━━━━━━━━━━━━━━━━━━━━━━━━━━━━━━━━━━━━━━━━\u001b[0m \u001b[32m4.9/4.9 MB\u001b[0m \u001b[31m107.2 MB/s\u001b[0m eta \u001b[36m0:00:00\u001b[0m\n",
      "\u001b[?25hDownloading kiwisolver-1.4.8-cp312-cp312-manylinux_2_17_x86_64.manylinux2014_x86_64.whl (1.5 MB)\n",
      "\u001b[2K   \u001b[90m━━━━━━━━━━━━━━━━━━━━━━━━━━━━━━━━━━━━━━━━\u001b[0m \u001b[32m1.5/1.5 MB\u001b[0m \u001b[31m72.1 MB/s\u001b[0m eta \u001b[36m0:00:00\u001b[0m\n",
      "\u001b[?25hDownloading pandas-2.2.3-cp312-cp312-manylinux_2_17_x86_64.manylinux2014_x86_64.whl (12.7 MB)\n",
      "\u001b[2K   \u001b[90m━━━━━━━━━━━━━━━━━━━━━━━━━━━━━━━━━━━━━━━━\u001b[0m \u001b[32m12.7/12.7 MB\u001b[0m \u001b[31m108.1 MB/s\u001b[0m eta \u001b[36m0:00:00\u001b[0m\n",
      "\u001b[?25hDownloading pillow-11.2.1-cp312-cp312-manylinux_2_28_x86_64.whl (4.6 MB)\n",
      "\u001b[2K   \u001b[90m━━━━━━━━━━━━━━━━━━━━━━━━━━━━━━━━━━━━━━━━\u001b[0m \u001b[32m4.6/4.6 MB\u001b[0m \u001b[31m108.2 MB/s\u001b[0m eta \u001b[36m0:00:00\u001b[0m\n",
      "\u001b[?25hDownloading pyparsing-3.2.3-py3-none-any.whl (111 kB)\n",
      "Downloading pytz-2025.2-py2.py3-none-any.whl (509 kB)\n",
      "Downloading tzdata-2025.2-py2.py3-none-any.whl (347 kB)\n",
      "Installing collected packages: pytz, tzdata, pyparsing, pillow, kiwisolver, fonttools, cycler, contourpy, pandas, matplotlib, seaborn\n",
      "\u001b[2K   \u001b[90m━━━━━━━━━━━━━━━━━━━━━━━━━━━━━━━━━━━━━━━━\u001b[0m \u001b[32m11/11\u001b[0m [seaborn]0/11\u001b[0m [seaborn]ib]\n",
      "\u001b[1A\u001b[2KSuccessfully installed contourpy-1.3.2 cycler-0.12.1 fonttools-4.57.0 kiwisolver-1.4.8 matplotlib-3.10.1 pandas-2.2.3 pillow-11.2.1 pyparsing-3.2.3 pytz-2025.2 seaborn-0.13.2 tzdata-2025.2\n"
     ]
    }
   ],
   "source": [
    "!pip install seaborn"
   ]
  },
  {
   "cell_type": "code",
   "execution_count": 3,
   "id": "c457db75",
   "metadata": {},
   "outputs": [],
   "source": [
    "from stork.models import RecurrentSpikingModel"
   ]
  },
  {
   "cell_type": "code",
   "execution_count": 10,
   "id": "62dd2c20",
   "metadata": {},
   "outputs": [
    {
     "name": "stdout",
     "output_type": "stream",
     "text": [
      "None\n"
     ]
    }
   ],
   "source": [
    "import __main__\n",
    "print(__main__.__package__)"
   ]
  },
  {
   "cell_type": "code",
   "execution_count": 13,
   "id": "8b5c7589",
   "metadata": {},
   "outputs": [],
   "source": [
    "import sys\n",
    "import os\n",
    "\n",
    "sys.path.append(os.path.abspath(\"..\")) "
   ]
  },
  {
   "cell_type": "code",
   "execution_count": 17,
   "id": "49c2813c",
   "metadata": {},
   "outputs": [
    {
     "data": {
      "text/plain": [
       "500"
      ]
     },
     "execution_count": 17,
     "metadata": {},
     "output_type": "execute_result"
    }
   ],
   "source": [
    "int(2 / 0.004)"
   ]
  },
  {
   "cell_type": "code",
   "execution_count": 18,
   "id": "5b55a8ed",
   "metadata": {},
   "outputs": [],
   "source": [
    "from efficient_rsnn_bmi.experiments.models.rsnn.rsnn import BaselineRecurrentSpikingModel\n",
    "\n",
    "model = BaselineRecurrentSpikingModel(\n",
    "    250,\n",
    "    nb_time_steps=500,\n",
    "    nb_inputs=192,\n",
    "    dtype='float32'\n",
    ")"
   ]
  },
  {
   "cell_type": "code",
   "execution_count": 19,
   "id": "30d2c202",
   "metadata": {},
   "outputs": [
    {
     "data": {
      "text/plain": [
       "BaselineRecurrentSpikingModel()"
      ]
     },
     "execution_count": 19,
     "metadata": {},
     "output_type": "execute_result"
    }
   ],
   "source": [
    "model"
   ]
  },
  {
   "cell_type": "code",
   "execution_count": 90,
   "id": "4203495f",
   "metadata": {},
   "outputs": [],
   "source": [
    "import torch\n",
    "# import the dataloader\n",
    "from torch.utils.data import DataLoader\n",
    "\n",
    "# import the dataset, preprocessors and postprocessors you want to use\n",
    "from neurobench.datasets import SpeechCommands\n",
    "from neurobench.processors.preprocessors import S2SPreProcessor\n",
    "from neurobench.processors.postprocessors import ChooseMaxCount\n",
    "\n",
    "# import the NeuroBench wrapper to wrap the snnTorch model\n",
    "from neurobench.models import SNNTorchModel\n",
    "\n",
    "# import metrics\n",
    "from neurobench.metrics.workload import (\n",
    "    ActivationSparsity,\n",
    "    SynapticOperations,\n",
    "    ClassificationAccuracy,\n",
    "    R2,\n",
    ")\n",
    "from neurobench.metrics.static import (\n",
    "    Footprint,\n",
    "    ConnectionSparsity,\n",
    ")\n",
    "\n",
    "# import the benchmark class\n",
    "from neurobench.benchmarks import Benchmark"
   ]
  },
  {
   "cell_type": "code",
   "execution_count": 91,
   "id": "1e3cb9f7",
   "metadata": {},
   "outputs": [],
   "source": [
    "from torch import nn\n",
    "import snntorch as snn\n",
    "from snntorch import surrogate\n",
    "\n",
    "beta = 0.9\n",
    "spike_grad = surrogate.fast_sigmoid()\n",
    "net = nn.Sequential(\n",
    "    nn.Flatten(),\n",
    "    nn.Linear(20, 256),\n",
    "    snn.Leaky(beta=beta, spike_grad=spike_grad, init_hidden=True),\n",
    "    nn.Linear(256, 256),\n",
    "    snn.Leaky(beta=beta, spike_grad=spike_grad, init_hidden=True),\n",
    "    nn.Linear(256, 256),\n",
    "    snn.Leaky(beta=beta, spike_grad=spike_grad, init_hidden=True),\n",
    "    nn.Linear(256, 35),\n",
    "    snn.Leaky(beta=beta, spike_grad=spike_grad, init_hidden=True, output=True),\n",
    ")"
   ]
  },
  {
   "cell_type": "code",
   "execution_count": 104,
   "id": "690ad2e6",
   "metadata": {},
   "outputs": [
    {
     "name": "stderr",
     "output_type": "stream",
     "text": [
      "2570.71s - pydevd: Sending message related to process being replaced timed-out after 5 seconds\n"
     ]
    },
    {
     "name": "stdout",
     "output_type": "stream",
     "text": [
      "Mon May 19 12:21:22 2025       \n",
      "+---------------------------------------------------------------------------------------+\n",
      "| NVIDIA-SMI 535.230.02             Driver Version: 535.230.02   CUDA Version: 12.2     |\n",
      "|-----------------------------------------+----------------------+----------------------+\n",
      "| GPU  Name                 Persistence-M | Bus-Id        Disp.A | Volatile Uncorr. ECC |\n",
      "| Fan  Temp   Perf          Pwr:Usage/Cap |         Memory-Usage | GPU-Util  Compute M. |\n",
      "|                                         |                      |               MIG M. |\n",
      "|=========================================+======================+======================|\n",
      "|   0  Tesla P100-SXM2-16GB           Off | 00000000:04:00.0 Off |                    0 |\n",
      "| N/A   35C    P0              43W / 300W |   2422MiB / 16384MiB |      0%      Default |\n",
      "|                                         |                      |                  N/A |\n",
      "+-----------------------------------------+----------------------+----------------------+\n",
      "|   1  Tesla P100-SXM2-16GB           Off | 00000000:06:00.0 Off |                    0 |\n",
      "| N/A   29C    P0              32W / 300W |      2MiB / 16384MiB |      0%      Default |\n",
      "|                                         |                      |                  N/A |\n",
      "+-----------------------------------------+----------------------+----------------------+\n",
      "|   2  Tesla P100-SXM2-16GB           Off | 00000000:07:00.0 Off |                    0 |\n",
      "| N/A   30C    P0              31W / 300W |      2MiB / 16384MiB |      0%      Default |\n",
      "|                                         |                      |                  N/A |\n",
      "+-----------------------------------------+----------------------+----------------------+\n",
      "|   3  Tesla P100-SXM2-16GB           Off | 00000000:08:00.0 Off |                    0 |\n",
      "| N/A   34C    P0              31W / 300W |      2MiB / 16384MiB |      0%      Default |\n",
      "|                                         |                      |                  N/A |\n",
      "+-----------------------------------------+----------------------+----------------------+\n",
      "                                                                                         \n",
      "+---------------------------------------------------------------------------------------+\n",
      "| Processes:                                                                            |\n",
      "|  GPU   GI   CI        PID   Type   Process name                            GPU Memory |\n",
      "|        ID   ID                                                             Usage      |\n",
      "|=======================================================================================|\n",
      "|    0   N/A  N/A     50169      C   ...envs/efficient-rsnn-bmi/bin/python3     2420MiB |\n",
      "+---------------------------------------------------------------------------------------+\n"
     ]
    }
   ],
   "source": [
    "!nvidia-smi"
   ]
  },
  {
   "cell_type": "code",
   "execution_count": 97,
   "id": "ed5cc8e9",
   "metadata": {},
   "outputs": [],
   "source": [
    "def to_cuda(batch):\n",
    "    inputs, targets = zip(*batch)  # unzip list of tuples\n",
    "    inputs = torch.stack(inputs).to('cuda')\n",
    "    targets = torch.tensor(targets).to('cuda')\n",
    "    return inputs, targets"
   ]
  },
  {
   "cell_type": "code",
   "execution_count": 98,
   "id": "0983d770",
   "metadata": {},
   "outputs": [],
   "source": [
    "test_set = SpeechCommands(path=\"data/speech_commands/\", subset=\"testing\")\n",
    "\n",
    "test_set_loader = DataLoader(test_set, batch_size=500, shuffle=True, collate_fn=to_cuda)\n"
   ]
  },
  {
   "cell_type": "code",
   "execution_count": 99,
   "id": "eab5eb6f",
   "metadata": {},
   "outputs": [],
   "source": [
    "net.load_state_dict(torch.load(\"s2s_gsc_snntorch\"))\n",
    "\n",
    "net.to(\"cuda\")\n",
    "\n",
    "# Wrap our net in the SNNTorchModel wrapper\n",
    "model = SNNTorchModel(net)"
   ]
  },
  {
   "cell_type": "code",
   "execution_count": 100,
   "id": "8370b903",
   "metadata": {},
   "outputs": [],
   "source": [
    "preprocessors = [S2SPreProcessor(device='cuda')]\n",
    "postprocessors = [ChooseMaxCount()]"
   ]
  },
  {
   "cell_type": "code",
   "execution_count": 113,
   "id": "9f39e8bb",
   "metadata": {},
   "outputs": [],
   "source": [
    "static_metrics = [Footprint, ConnectionSparsity]\n",
    "workload_metrics = [R2]"
   ]
  },
  {
   "cell_type": "code",
   "execution_count": 114,
   "id": "67ce122f",
   "metadata": {},
   "outputs": [],
   "source": [
    "benchmark = Benchmark(model, test_set_loader,\n",
    "                      preprocessors, postprocessors, [static_metrics, workload_metrics])"
   ]
  },
  {
   "cell_type": "code",
   "execution_count": 115,
   "id": "bfbe2ede",
   "metadata": {},
   "outputs": [
    {
     "name": "stdout",
     "output_type": "stream",
     "text": [
      "Running benchmark\n"
     ]
    },
    {
     "name": "stderr",
     "output_type": "stream",
     "text": [
      "  4%|▍         | 1/23 [00:00<00:13,  1.66it/s]"
     ]
    },
    {
     "name": "stdout",
     "output_type": "stream",
     "text": [
      "Error running workload metric 'R2': too many indices for tensor of dimension 1\n"
     ]
    },
    {
     "name": "stderr",
     "output_type": "stream",
     "text": [
      "  9%|▊         | 2/23 [00:01<00:12,  1.67it/s]"
     ]
    },
    {
     "name": "stdout",
     "output_type": "stream",
     "text": [
      "Error running workload metric 'R2': too many indices for tensor of dimension 1\n"
     ]
    },
    {
     "name": "stderr",
     "output_type": "stream",
     "text": [
      " 13%|█▎        | 3/23 [00:01<00:11,  1.67it/s]"
     ]
    },
    {
     "name": "stdout",
     "output_type": "stream",
     "text": [
      "Error running workload metric 'R2': too many indices for tensor of dimension 1\n"
     ]
    },
    {
     "name": "stderr",
     "output_type": "stream",
     "text": [
      " 17%|█▋        | 4/23 [00:02<00:11,  1.68it/s]"
     ]
    },
    {
     "name": "stdout",
     "output_type": "stream",
     "text": [
      "Error running workload metric 'R2': too many indices for tensor of dimension 1\n"
     ]
    },
    {
     "name": "stderr",
     "output_type": "stream",
     "text": [
      " 22%|██▏       | 5/23 [00:02<00:10,  1.68it/s]"
     ]
    },
    {
     "name": "stdout",
     "output_type": "stream",
     "text": [
      "Error running workload metric 'R2': too many indices for tensor of dimension 1\n"
     ]
    },
    {
     "name": "stderr",
     "output_type": "stream",
     "text": [
      " 26%|██▌       | 6/23 [00:03<00:10,  1.68it/s]"
     ]
    },
    {
     "name": "stdout",
     "output_type": "stream",
     "text": [
      "Error running workload metric 'R2': too many indices for tensor of dimension 1\n"
     ]
    },
    {
     "name": "stderr",
     "output_type": "stream",
     "text": [
      " 30%|███       | 7/23 [00:04<00:10,  1.56it/s]"
     ]
    },
    {
     "name": "stdout",
     "output_type": "stream",
     "text": [
      "Error running workload metric 'R2': too many indices for tensor of dimension 1\n"
     ]
    },
    {
     "name": "stderr",
     "output_type": "stream",
     "text": [
      " 35%|███▍      | 8/23 [00:05<00:09,  1.50it/s]"
     ]
    },
    {
     "name": "stdout",
     "output_type": "stream",
     "text": [
      "Error running workload metric 'R2': too many indices for tensor of dimension 1\n"
     ]
    },
    {
     "name": "stderr",
     "output_type": "stream",
     "text": [
      " 39%|███▉      | 9/23 [00:05<00:09,  1.46it/s]"
     ]
    },
    {
     "name": "stdout",
     "output_type": "stream",
     "text": [
      "Error running workload metric 'R2': too many indices for tensor of dimension 1\n"
     ]
    },
    {
     "name": "stderr",
     "output_type": "stream",
     "text": [
      " 43%|████▎     | 10/23 [00:06<00:09,  1.43it/s]"
     ]
    },
    {
     "name": "stdout",
     "output_type": "stream",
     "text": [
      "Error running workload metric 'R2': too many indices for tensor of dimension 1\n"
     ]
    },
    {
     "name": "stderr",
     "output_type": "stream",
     "text": [
      " 48%|████▊     | 11/23 [00:07<00:08,  1.42it/s]"
     ]
    },
    {
     "name": "stdout",
     "output_type": "stream",
     "text": [
      "Error running workload metric 'R2': too many indices for tensor of dimension 1\n"
     ]
    },
    {
     "name": "stderr",
     "output_type": "stream",
     "text": [
      " 52%|█████▏    | 12/23 [00:07<00:07,  1.40it/s]"
     ]
    },
    {
     "name": "stdout",
     "output_type": "stream",
     "text": [
      "Error running workload metric 'R2': too many indices for tensor of dimension 1\n"
     ]
    },
    {
     "name": "stderr",
     "output_type": "stream",
     "text": [
      " 57%|█████▋    | 13/23 [00:08<00:07,  1.40it/s]"
     ]
    },
    {
     "name": "stdout",
     "output_type": "stream",
     "text": [
      "Error running workload metric 'R2': too many indices for tensor of dimension 1\n"
     ]
    },
    {
     "name": "stderr",
     "output_type": "stream",
     "text": [
      " 61%|██████    | 14/23 [00:09<00:06,  1.39it/s]"
     ]
    },
    {
     "name": "stdout",
     "output_type": "stream",
     "text": [
      "Error running workload metric 'R2': too many indices for tensor of dimension 1\n"
     ]
    },
    {
     "name": "stderr",
     "output_type": "stream",
     "text": [
      " 65%|██████▌   | 15/23 [00:10<00:05,  1.39it/s]"
     ]
    },
    {
     "name": "stdout",
     "output_type": "stream",
     "text": [
      "Error running workload metric 'R2': too many indices for tensor of dimension 1\n"
     ]
    },
    {
     "name": "stderr",
     "output_type": "stream",
     "text": [
      " 70%|██████▉   | 16/23 [00:10<00:05,  1.38it/s]"
     ]
    },
    {
     "name": "stdout",
     "output_type": "stream",
     "text": [
      "Error running workload metric 'R2': too many indices for tensor of dimension 1\n"
     ]
    },
    {
     "name": "stderr",
     "output_type": "stream",
     "text": [
      " 74%|███████▍  | 17/23 [00:11<00:04,  1.38it/s]"
     ]
    },
    {
     "name": "stdout",
     "output_type": "stream",
     "text": [
      "Error running workload metric 'R2': too many indices for tensor of dimension 1\n"
     ]
    },
    {
     "name": "stderr",
     "output_type": "stream",
     "text": [
      " 78%|███████▊  | 18/23 [00:12<00:03,  1.38it/s]"
     ]
    },
    {
     "name": "stdout",
     "output_type": "stream",
     "text": [
      "Error running workload metric 'R2': too many indices for tensor of dimension 1\n"
     ]
    },
    {
     "name": "stderr",
     "output_type": "stream",
     "text": [
      " 83%|████████▎ | 19/23 [00:13<00:02,  1.38it/s]"
     ]
    },
    {
     "name": "stdout",
     "output_type": "stream",
     "text": [
      "Error running workload metric 'R2': too many indices for tensor of dimension 1\n"
     ]
    },
    {
     "name": "stderr",
     "output_type": "stream",
     "text": [
      " 87%|████████▋ | 20/23 [00:13<00:02,  1.38it/s]"
     ]
    },
    {
     "name": "stdout",
     "output_type": "stream",
     "text": [
      "Error running workload metric 'R2': too many indices for tensor of dimension 1\n"
     ]
    },
    {
     "name": "stderr",
     "output_type": "stream",
     "text": [
      " 91%|█████████▏| 21/23 [00:14<00:01,  1.38it/s]"
     ]
    },
    {
     "name": "stdout",
     "output_type": "stream",
     "text": [
      "Error running workload metric 'R2': too many indices for tensor of dimension 1\n"
     ]
    },
    {
     "name": "stderr",
     "output_type": "stream",
     "text": [
      " 96%|█████████▌| 22/23 [00:15<00:00,  1.38it/s]"
     ]
    },
    {
     "name": "stdout",
     "output_type": "stream",
     "text": [
      "Error running workload metric 'R2': too many indices for tensor of dimension 1\n"
     ]
    },
    {
     "name": "stderr",
     "output_type": "stream",
     "text": [
      "100%|██████████| 23/23 [00:15<00:00,  1.46it/s]"
     ]
    },
    {
     "name": "stdout",
     "output_type": "stream",
     "text": [
      "Error running workload metric 'R2': too many indices for tensor of dimension 1\n",
      "{'Footprint': 599960, 'ConnectionSparsity': 0.0, 'R2': 0.0}\n"
     ]
    },
    {
     "name": "stderr",
     "output_type": "stream",
     "text": [
      "\n"
     ]
    }
   ],
   "source": [
    "results = benchmark.run()\n",
    "print(results)"
   ]
  }
 ],
 "metadata": {
  "kernelspec": {
   "display_name": "efficient-rsnn-bmi",
   "language": "python",
   "name": "python3"
  },
  "language_info": {
   "codemirror_mode": {
    "name": "ipython",
    "version": 3
   },
   "file_extension": ".py",
   "mimetype": "text/x-python",
   "name": "python",
   "nbconvert_exporter": "python",
   "pygments_lexer": "ipython3",
   "version": "3.12.10"
  }
 },
 "nbformat": 4,
 "nbformat_minor": 5
}
